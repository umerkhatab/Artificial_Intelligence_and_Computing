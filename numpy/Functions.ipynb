{
 "cells": [
  {
   "cell_type": "code",
   "execution_count": 1,
   "id": "fc88bf18",
   "metadata": {},
   "outputs": [],
   "source": [
    "import numpy as np"
   ]
  },
  {
   "cell_type": "code",
   "execution_count": 2,
   "id": "7c1a62ef",
   "metadata": {},
   "outputs": [],
   "source": [
    "x = np.array([2,5,4,9,8,12])"
   ]
  },
  {
   "cell_type": "code",
   "execution_count": 3,
   "id": "81055b9b",
   "metadata": {},
   "outputs": [
    {
     "data": {
      "text/plain": [
       "array([1.41421356, 2.23606798, 2.        , 3.        , 2.82842712,\n",
       "       3.46410162])"
      ]
     },
     "execution_count": 3,
     "metadata": {},
     "output_type": "execute_result"
    }
   ],
   "source": [
    "np.sqrt(x)"
   ]
  },
  {
   "cell_type": "code",
   "execution_count": 4,
   "id": "6292e021",
   "metadata": {},
   "outputs": [
    {
     "data": {
      "text/plain": [
       "array([  4,  25,  16,  81,  64, 144], dtype=int32)"
      ]
     },
     "execution_count": 4,
     "metadata": {},
     "output_type": "execute_result"
    }
   ],
   "source": [
    "np.power(x,2)"
   ]
  },
  {
   "cell_type": "markdown",
   "id": "40bee434",
   "metadata": {},
   "source": [
    "# np.where in numpy"
   ]
  },
  {
   "cell_type": "code",
   "execution_count": 6,
   "id": "aff1ae6c",
   "metadata": {},
   "outputs": [],
   "source": [
    "salary = np.array([0,-1,23000,25000,22000])"
   ]
  },
  {
   "cell_type": "code",
   "execution_count": 7,
   "id": "29aaba86",
   "metadata": {},
   "outputs": [
    {
     "data": {
      "text/plain": [
       "array([12000, 12000, 23000, 25000, 22000])"
      ]
     },
     "execution_count": 7,
     "metadata": {},
     "output_type": "execute_result"
    }
   ],
   "source": [
    "np.where(salary<=0,12000,salary)"
   ]
  },
  {
   "cell_type": "code",
   "execution_count": 8,
   "id": "4d4d8bd0",
   "metadata": {},
   "outputs": [
    {
     "data": {
      "text/plain": [
       "array(['not ok', 'not ok', 'ok', 'ok', 'ok'], dtype='<U6')"
      ]
     },
     "execution_count": 8,
     "metadata": {},
     "output_type": "execute_result"
    }
   ],
   "source": [
    "np.where(salary<=0,\"not ok\",\"ok\")"
   ]
  },
  {
   "cell_type": "code",
   "execution_count": null,
   "id": "8df7771c",
   "metadata": {},
   "outputs": [],
   "source": []
  }
 ],
 "metadata": {
  "kernelspec": {
   "display_name": "Python 3 (ipykernel)",
   "language": "python",
   "name": "python3"
  },
  "language_info": {
   "codemirror_mode": {
    "name": "ipython",
    "version": 3
   },
   "file_extension": ".py",
   "mimetype": "text/x-python",
   "name": "python",
   "nbconvert_exporter": "python",
   "pygments_lexer": "ipython3",
   "version": "3.9.13"
  }
 },
 "nbformat": 4,
 "nbformat_minor": 5
}
