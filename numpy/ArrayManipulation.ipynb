{
 "cells": [
  {
   "cell_type": "markdown",
   "id": "20532ed3",
   "metadata": {},
   "source": [
    "\n",
    "# Reshaping"
   ]
  },
  {
   "cell_type": "code",
   "execution_count": 1,
   "id": "ebdf4505",
   "metadata": {},
   "outputs": [],
   "source": [
    "# order c is row major order\n",
    "# order f or fortran is column major order"
   ]
  },
  {
   "cell_type": "code",
   "execution_count": 2,
   "id": "3cb4d0ab",
   "metadata": {},
   "outputs": [],
   "source": [
    "import numpy as np"
   ]
  },
  {
   "cell_type": "code",
   "execution_count": 3,
   "id": "edde8db0",
   "metadata": {},
   "outputs": [
    {
     "data": {
      "text/plain": [
       "array([[ 1.05956338, -1.77222274, -0.13905226, -0.30537451, -0.56893895],\n",
       "       [ 0.62414816,  1.32198591, -0.14104702,  1.18131612,  0.37445209],\n",
       "       [-1.60174016,  0.29981023, -0.90844878, -0.9992668 ,  0.56720726],\n",
       "       [ 1.95955482,  0.07974013, -2.26324381, -0.34155038, -1.19470128]])"
      ]
     },
     "execution_count": 3,
     "metadata": {},
     "output_type": "execute_result"
    }
   ],
   "source": [
    "x = np.random.randn(4,5)\n",
    "x"
   ]
  },
  {
   "cell_type": "code",
   "execution_count": 6,
   "id": "1ce7ae39",
   "metadata": {},
   "outputs": [
    {
     "data": {
      "text/plain": [
       "array([[[ 1.05956338, -1.77222274, -0.13905226, -0.30537451,\n",
       "         -0.56893895],\n",
       "        [ 0.62414816,  1.32198591, -0.14104702,  1.18131612,\n",
       "          0.37445209]],\n",
       "\n",
       "       [[-1.60174016,  0.29981023, -0.90844878, -0.9992668 ,\n",
       "          0.56720726],\n",
       "        [ 1.95955482,  0.07974013, -2.26324381, -0.34155038,\n",
       "         -1.19470128]]])"
      ]
     },
     "execution_count": 6,
     "metadata": {},
     "output_type": "execute_result"
    }
   ],
   "source": [
    "x.reshape(2,2,5)  # by default it will store in row major order"
   ]
  },
  {
   "cell_type": "code",
   "execution_count": 8,
   "id": "83c8df54",
   "metadata": {},
   "outputs": [
    {
     "data": {
      "text/plain": [
       "array([[[ 1.05956338, -1.77222274, -0.13905226, -0.30537451,\n",
       "         -0.56893895],\n",
       "        [-1.60174016,  0.29981023, -0.90844878, -0.9992668 ,\n",
       "          0.56720726]],\n",
       "\n",
       "       [[ 0.62414816,  1.32198591, -0.14104702,  1.18131612,\n",
       "          0.37445209],\n",
       "        [ 1.95955482,  0.07974013, -2.26324381, -0.34155038,\n",
       "         -1.19470128]]])"
      ]
     },
     "execution_count": 8,
     "metadata": {},
     "output_type": "execute_result"
    }
   ],
   "source": [
    "# to convert in column major order use orfer F\n",
    "x.reshape((2,2,5), order = 'F')"
   ]
  },
  {
   "cell_type": "code",
   "execution_count": 9,
   "id": "9737713f",
   "metadata": {},
   "outputs": [
    {
     "data": {
      "text/plain": [
       "array([[ 1.05956338, -1.77222274, -0.13905226, -0.30537451, -0.56893895],\n",
       "       [ 0.62414816,  1.32198591, -0.14104702,  1.18131612,  0.37445209],\n",
       "       [-1.60174016,  0.29981023, -0.90844878, -0.9992668 ,  0.56720726],\n",
       "       [ 1.95955482,  0.07974013, -2.26324381, -0.34155038, -1.19470128]])"
      ]
     },
     "execution_count": 9,
     "metadata": {},
     "output_type": "execute_result"
    }
   ],
   "source": [
    "x"
   ]
  },
  {
   "cell_type": "code",
   "execution_count": 10,
   "id": "75018686",
   "metadata": {},
   "outputs": [
    {
     "data": {
      "text/plain": [
       "array([ 1.05956338, -1.77222274, -0.13905226, -0.30537451, -0.56893895,\n",
       "        0.62414816,  1.32198591, -0.14104702,  1.18131612,  0.37445209,\n",
       "       -1.60174016,  0.29981023, -0.90844878, -0.9992668 ,  0.56720726,\n",
       "        1.95955482,  0.07974013, -2.26324381, -0.34155038, -1.19470128])"
      ]
     },
     "execution_count": 10,
     "metadata": {},
     "output_type": "execute_result"
    }
   ],
   "source": [
    "# to convert x from 2d to 1D\n",
    "x.ravel()"
   ]
  },
  {
   "cell_type": "markdown",
   "id": "5b3ad8ab",
   "metadata": {},
   "source": [
    "\n",
    "# Concatination"
   ]
  },
  {
   "cell_type": "code",
   "execution_count": 11,
   "id": "25fcbc85",
   "metadata": {},
   "outputs": [],
   "source": [
    "x = [[1,3,2,4,7],[4,6,2,8,0]]"
   ]
  },
  {
   "cell_type": "code",
   "execution_count": 12,
   "id": "b18058d4",
   "metadata": {},
   "outputs": [],
   "source": [
    "arr1 = np.array(x)"
   ]
  },
  {
   "cell_type": "code",
   "execution_count": 13,
   "id": "e0609be3",
   "metadata": {},
   "outputs": [],
   "source": [
    "y = [[11,13,12,14,17],[41,16,21,18,10]]"
   ]
  },
  {
   "cell_type": "code",
   "execution_count": 14,
   "id": "0ed4d918",
   "metadata": {},
   "outputs": [],
   "source": [
    "arr2 = np.array(y)"
   ]
  },
  {
   "cell_type": "code",
   "execution_count": 15,
   "id": "6b96be0a",
   "metadata": {},
   "outputs": [
    {
     "data": {
      "text/plain": [
       "array([[1, 3, 2, 4, 7],\n",
       "       [4, 6, 2, 8, 0]])"
      ]
     },
     "execution_count": 15,
     "metadata": {},
     "output_type": "execute_result"
    }
   ],
   "source": [
    "arr1"
   ]
  },
  {
   "cell_type": "code",
   "execution_count": 16,
   "id": "2a4237ad",
   "metadata": {},
   "outputs": [
    {
     "data": {
      "text/plain": [
       "array([[11, 13, 12, 14, 17],\n",
       "       [41, 16, 21, 18, 10]])"
      ]
     },
     "execution_count": 16,
     "metadata": {},
     "output_type": "execute_result"
    }
   ],
   "source": [
    "arr2"
   ]
  },
  {
   "cell_type": "code",
   "execution_count": 17,
   "id": "34a5dd75",
   "metadata": {},
   "outputs": [
    {
     "data": {
      "text/plain": [
       "array([[ 1,  3,  2,  4,  7],\n",
       "       [ 4,  6,  2,  8,  0],\n",
       "       [11, 13, 12, 14, 17],\n",
       "       [41, 16, 21, 18, 10]])"
      ]
     },
     "execution_count": 17,
     "metadata": {},
     "output_type": "execute_result"
    }
   ],
   "source": [
    "np.concatenate((arr1,arr2),axis = 0) # row wise concatenation"
   ]
  },
  {
   "cell_type": "code",
   "execution_count": 18,
   "id": "f19526fd",
   "metadata": {},
   "outputs": [
    {
     "data": {
      "text/plain": [
       "array([[ 1,  3,  2,  4,  7, 11, 13, 12, 14, 17],\n",
       "       [ 4,  6,  2,  8,  0, 41, 16, 21, 18, 10]])"
      ]
     },
     "execution_count": 18,
     "metadata": {},
     "output_type": "execute_result"
    }
   ],
   "source": [
    "# column wise concatenation\n",
    "np.concatenate((arr1,arr2),axis = 1)"
   ]
  },
  {
   "cell_type": "code",
   "execution_count": 20,
   "id": "924376ea",
   "metadata": {},
   "outputs": [
    {
     "data": {
      "text/plain": [
       "array([[ 1,  3,  2,  4,  7],\n",
       "       [ 4,  6,  2,  8,  0],\n",
       "       [11, 13, 12, 14, 17],\n",
       "       [41, 16, 21, 18, 10]])"
      ]
     },
     "execution_count": 20,
     "metadata": {},
     "output_type": "execute_result"
    }
   ],
   "source": [
    "# other method for row wise concatenation is vstack\n",
    "np.vstack((arr1,arr2))"
   ]
  },
  {
   "cell_type": "code",
   "execution_count": 21,
   "id": "306b9456",
   "metadata": {},
   "outputs": [
    {
     "data": {
      "text/plain": [
       "array([[ 1,  3,  2,  4,  7, 11, 13, 12, 14, 17],\n",
       "       [ 4,  6,  2,  8,  0, 41, 16, 21, 18, 10]])"
      ]
     },
     "execution_count": 21,
     "metadata": {},
     "output_type": "execute_result"
    }
   ],
   "source": [
    "# other method for column wise concatenation is hstack\n",
    "np.hstack((arr1,arr2))"
   ]
  },
  {
   "cell_type": "markdown",
   "id": "31a69251",
   "metadata": {},
   "source": [
    "# Split"
   ]
  },
  {
   "cell_type": "code",
   "execution_count": 22,
   "id": "e1c94aa9",
   "metadata": {},
   "outputs": [],
   "source": [
    "x = [1,4,5,6,8,3,2,4]"
   ]
  },
  {
   "cell_type": "code",
   "execution_count": 23,
   "id": "3ea94cfb",
   "metadata": {},
   "outputs": [],
   "source": [
    "d = np.array(x)"
   ]
  },
  {
   "cell_type": "code",
   "execution_count": 24,
   "id": "d6c06463",
   "metadata": {},
   "outputs": [
    {
     "data": {
      "text/plain": [
       "[array([1, 4]), array([5, 6, 8]), array([3, 2, 4])]"
      ]
     },
     "execution_count": 24,
     "metadata": {},
     "output_type": "execute_result"
    }
   ],
   "source": [
    "np.split(d,[2,5])"
   ]
  },
  {
   "cell_type": "code",
   "execution_count": 25,
   "id": "b9456159",
   "metadata": {},
   "outputs": [],
   "source": [
    "# if we have two dimensional array\n",
    "k = [[1,4,5,6,8,3,2,4],[11,34,56,23,54,56,90,2]]\n"
   ]
  },
  {
   "cell_type": "code",
   "execution_count": 26,
   "id": "37fc8c27",
   "metadata": {},
   "outputs": [],
   "source": [
    "d = np.array(k)"
   ]
  },
  {
   "cell_type": "code",
   "execution_count": 28,
   "id": "2ab04047",
   "metadata": {},
   "outputs": [
    {
     "data": {
      "text/plain": [
       "array([[ 1,  4,  5,  6,  8,  3,  2,  4],\n",
       "       [11, 34, 56, 23, 54, 56, 90,  2]])"
      ]
     },
     "execution_count": 28,
     "metadata": {},
     "output_type": "execute_result"
    }
   ],
   "source": [
    "d"
   ]
  },
  {
   "cell_type": "code",
   "execution_count": 27,
   "id": "bb5a4817",
   "metadata": {},
   "outputs": [
    {
     "data": {
      "text/plain": [
       "[array([[ 1,  4,  5,  6],\n",
       "        [11, 34, 56, 23]]),\n",
       " array([[ 8,  3],\n",
       "        [54, 56]]),\n",
       " array([[ 2,  4],\n",
       "        [90,  2]])]"
      ]
     },
     "execution_count": 27,
     "metadata": {},
     "output_type": "execute_result"
    }
   ],
   "source": [
    "np.split(d,[4,6],axis=1) # axis = 1 is column wise split and axis = 0 is row wise split"
   ]
  },
  {
   "cell_type": "markdown",
   "id": "dd6be9f8",
   "metadata": {},
   "source": [
    "# Tile and Repeat"
   ]
  },
  {
   "cell_type": "code",
   "execution_count": 30,
   "id": "97064342",
   "metadata": {},
   "outputs": [],
   "source": [
    "d = np.array([1,5,7,3,8,0])"
   ]
  },
  {
   "cell_type": "code",
   "execution_count": 31,
   "id": "6e4eee66",
   "metadata": {},
   "outputs": [
    {
     "data": {
      "text/plain": [
       "array([1, 1, 1, 5, 5, 5, 7, 7, 7, 3, 3, 3, 8, 8, 8, 0, 0, 0])"
      ]
     },
     "execution_count": 31,
     "metadata": {},
     "output_type": "execute_result"
    }
   ],
   "source": [
    "np.repeat(d,3)"
   ]
  },
  {
   "cell_type": "code",
   "execution_count": 32,
   "id": "b3c0a9a1",
   "metadata": {},
   "outputs": [
    {
     "data": {
      "text/plain": [
       "array([1, 5, 7, 3, 8, 0, 1, 5, 7, 3, 8, 0, 1, 5, 7, 3, 8, 0])"
      ]
     },
     "execution_count": 32,
     "metadata": {},
     "output_type": "execute_result"
    }
   ],
   "source": [
    "np.tile(d,3)"
   ]
  },
  {
   "cell_type": "code",
   "execution_count": null,
   "id": "9652c5d6",
   "metadata": {},
   "outputs": [],
   "source": []
  }
 ],
 "metadata": {
  "kernelspec": {
   "display_name": "Python 3 (ipykernel)",
   "language": "python",
   "name": "python3"
  },
  "language_info": {
   "codemirror_mode": {
    "name": "ipython",
    "version": 3
   },
   "file_extension": ".py",
   "mimetype": "text/x-python",
   "name": "python",
   "nbconvert_exporter": "python",
   "pygments_lexer": "ipython3",
   "version": "3.9.13"
  }
 },
 "nbformat": 4,
 "nbformat_minor": 5
}
