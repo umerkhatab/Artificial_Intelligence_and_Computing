{
 "cells": [
  {
   "cell_type": "code",
   "execution_count": 1,
   "id": "6e185a6d",
   "metadata": {},
   "outputs": [],
   "source": [
    "import numpy as np"
   ]
  },
  {
   "cell_type": "code",
   "execution_count": 2,
   "id": "ea550a37",
   "metadata": {},
   "outputs": [],
   "source": [
    "x = [1,2,4,6,9,3]"
   ]
  },
  {
   "cell_type": "code",
   "execution_count": 3,
   "id": "2def9098",
   "metadata": {},
   "outputs": [],
   "source": [
    "y = [4,6,5,3,1]"
   ]
  },
  {
   "cell_type": "code",
   "execution_count": 6,
   "id": "f17e7978",
   "metadata": {},
   "outputs": [],
   "source": [
    "np.save('testx.npy',x)"
   ]
  },
  {
   "cell_type": "code",
   "execution_count": 7,
   "id": "606c5722",
   "metadata": {},
   "outputs": [
    {
     "data": {
      "text/plain": [
       "array([1, 2, 4, 6, 9, 3])"
      ]
     },
     "execution_count": 7,
     "metadata": {},
     "output_type": "execute_result"
    }
   ],
   "source": [
    "loadx = np.load('testx.npy')\n",
    "loadx"
   ]
  },
  {
   "cell_type": "code",
   "execution_count": 8,
   "id": "976635de",
   "metadata": {},
   "outputs": [],
   "source": [
    "# to save multiple files use savez and .npz\n",
    "np.savez('testxy.npz',x=x,y=y)"
   ]
  },
  {
   "cell_type": "code",
   "execution_count": 9,
   "id": "cab928c3",
   "metadata": {},
   "outputs": [
    {
     "data": {
      "text/plain": [
       "<numpy.lib.npyio.NpzFile at 0x1a8be6ce3a0>"
      ]
     },
     "execution_count": 9,
     "metadata": {},
     "output_type": "execute_result"
    }
   ],
   "source": [
    "loadxy = np.load('testxy.npz')\n",
    "loadxy"
   ]
  },
  {
   "cell_type": "code",
   "execution_count": 14,
   "id": "3a0a50aa",
   "metadata": {},
   "outputs": [
    {
     "data": {
      "text/plain": [
       "array([1, 2, 4, 6, 9, 3])"
      ]
     },
     "execution_count": 14,
     "metadata": {},
     "output_type": "execute_result"
    }
   ],
   "source": [
    "loadxy['x']"
   ]
  },
  {
   "cell_type": "code",
   "execution_count": 15,
   "id": "1b3a77ea",
   "metadata": {},
   "outputs": [
    {
     "data": {
      "text/plain": [
       "array([4, 6, 5, 3, 1])"
      ]
     },
     "execution_count": 15,
     "metadata": {},
     "output_type": "execute_result"
    }
   ],
   "source": [
    "loadxy['y']"
   ]
  },
  {
   "cell_type": "code",
   "execution_count": null,
   "id": "8f8a8992",
   "metadata": {},
   "outputs": [],
   "source": []
  }
 ],
 "metadata": {
  "kernelspec": {
   "display_name": "Python 3 (ipykernel)",
   "language": "python",
   "name": "python3"
  },
  "language_info": {
   "codemirror_mode": {
    "name": "ipython",
    "version": 3
   },
   "file_extension": ".py",
   "mimetype": "text/x-python",
   "name": "python",
   "nbconvert_exporter": "python",
   "pygments_lexer": "ipython3",
   "version": "3.9.13"
  }
 },
 "nbformat": 4,
 "nbformat_minor": 5
}
