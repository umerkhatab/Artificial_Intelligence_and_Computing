{
 "cells": [
  {
   "cell_type": "code",
   "execution_count": 1,
   "id": "34bd176c",
   "metadata": {},
   "outputs": [],
   "source": [
    "import numpy as np"
   ]
  },
  {
   "cell_type": "code",
   "execution_count": 2,
   "id": "2ab105e8",
   "metadata": {},
   "outputs": [],
   "source": [
    "x = np.array([1,2,3,5,7])"
   ]
  },
  {
   "cell_type": "code",
   "execution_count": 3,
   "id": "ed293d90",
   "metadata": {},
   "outputs": [
    {
     "data": {
      "text/plain": [
       "7"
      ]
     },
     "execution_count": 3,
     "metadata": {},
     "output_type": "execute_result"
    }
   ],
   "source": [
    "x[4]"
   ]
  },
  {
   "cell_type": "code",
   "execution_count": 4,
   "id": "be17f93a",
   "metadata": {},
   "outputs": [
    {
     "data": {
      "text/plain": [
       "array([False, False, False, False,  True])"
      ]
     },
     "execution_count": 4,
     "metadata": {},
     "output_type": "execute_result"
    }
   ],
   "source": [
    "x>5"
   ]
  },
  {
   "cell_type": "code",
   "execution_count": 5,
   "id": "dbcfc5e4",
   "metadata": {},
   "outputs": [
    {
     "data": {
      "text/plain": [
       "array([7])"
      ]
     },
     "execution_count": 5,
     "metadata": {},
     "output_type": "execute_result"
    }
   ],
   "source": [
    "x[x>5]      # boolean indexing"
   ]
  },
  {
   "cell_type": "code",
   "execution_count": 6,
   "id": "c48fbb25",
   "metadata": {},
   "outputs": [
    {
     "data": {
      "text/plain": [
       "array([3, 2])"
      ]
     },
     "execution_count": 6,
     "metadata": {},
     "output_type": "execute_result"
    }
   ],
   "source": [
    "#fancy indexing\n",
    "x[[2,1]]"
   ]
  },
  {
   "cell_type": "code",
   "execution_count": 7,
   "id": "9653ee4c",
   "metadata": {},
   "outputs": [],
   "source": [
    "#slicing\n",
    "x = np.random.randn(10,10)"
   ]
  },
  {
   "cell_type": "code",
   "execution_count": 8,
   "id": "e5b52701",
   "metadata": {},
   "outputs": [
    {
     "data": {
      "text/plain": [
       "array([[ 1.04368772, -0.40642585, -0.91323189, -0.68086713, -0.32474583,\n",
       "        -0.52899747, -0.75864574, -0.87549932, -0.24376243,  0.47122849],\n",
       "       [-0.85940731,  1.0340649 ,  0.25671156,  0.85950885,  0.67485059,\n",
       "         0.76707854,  1.3817183 ,  0.47177593, -1.71653746, -1.56932182],\n",
       "       [-1.68571943,  0.61699993,  0.5652763 , -0.10185051, -0.25576895,\n",
       "         0.62646561, -0.38654026, -0.56861591, -0.16799897,  0.49661999],\n",
       "       [ 0.57057312, -0.33892543,  1.16819397, -0.12066376, -0.3760015 ,\n",
       "        -0.68388355, -0.14129536,  0.75183614, -1.23010052,  0.31214898],\n",
       "       [-0.20197296,  0.83397815, -1.57390908,  0.14280119,  0.71042074,\n",
       "        -1.20390405,  1.14301216, -0.82362514, -0.36042052, -0.49755047],\n",
       "       [ 0.06661609, -0.03456654,  0.58256946,  0.13552698,  1.30016718,\n",
       "         1.11015456,  1.32633721, -0.77047972,  0.00680111, -0.45974325],\n",
       "       [ 1.00079353,  0.01287839,  1.28494385,  0.02134999, -0.76212588,\n",
       "         0.97402225,  0.12783605, -0.60992693, -1.00130675, -0.49620593],\n",
       "       [-0.96127772, -0.28315384, -0.13429177, -0.47841588, -0.09289645,\n",
       "        -1.40470819,  0.64338904,  0.83675599, -0.77346169,  0.30620569],\n",
       "       [-1.24624791, -1.97128312,  1.13802328, -0.21436613, -1.63224151,\n",
       "        -0.49360899, -0.81055877, -0.36542256,  0.88003221,  0.87013207],\n",
       "       [-0.68815515, -1.2004013 , -0.51378584, -0.60030048,  0.22691763,\n",
       "        -0.94373585,  0.18268286,  0.96719864,  0.93442008, -1.24645636]])"
      ]
     },
     "execution_count": 8,
     "metadata": {},
     "output_type": "execute_result"
    }
   ],
   "source": [
    "x"
   ]
  },
  {
   "cell_type": "code",
   "execution_count": 9,
   "id": "cd3f525d",
   "metadata": {},
   "outputs": [
    {
     "data": {
      "text/plain": [
       "array([ 1.04368772, -0.40642585, -0.91323189, -0.68086713, -0.32474583,\n",
       "       -0.52899747, -0.75864574, -0.87549932, -0.24376243,  0.47122849])"
      ]
     },
     "execution_count": 9,
     "metadata": {},
     "output_type": "execute_result"
    }
   ],
   "source": [
    "# for first row\n",
    "x[0]"
   ]
  },
  {
   "cell_type": "code",
   "execution_count": 10,
   "id": "2dbe737d",
   "metadata": {},
   "outputs": [
    {
     "data": {
      "text/plain": [
       "-0.5289974652113741"
      ]
     },
     "execution_count": 10,
     "metadata": {},
     "output_type": "execute_result"
    }
   ],
   "source": [
    "# first row and fifth column\n",
    "x[0][5]"
   ]
  },
  {
   "cell_type": "code",
   "execution_count": 11,
   "id": "d36d859a",
   "metadata": {},
   "outputs": [
    {
     "data": {
      "text/plain": [
       "array([[-0.85940731,  1.0340649 ,  0.25671156,  0.85950885,  0.67485059,\n",
       "         0.76707854,  1.3817183 ,  0.47177593, -1.71653746, -1.56932182],\n",
       "       [ 0.57057312, -0.33892543,  1.16819397, -0.12066376, -0.3760015 ,\n",
       "        -0.68388355, -0.14129536,  0.75183614, -1.23010052,  0.31214898],\n",
       "       [ 0.06661609, -0.03456654,  0.58256946,  0.13552698,  1.30016718,\n",
       "         1.11015456,  1.32633721, -0.77047972,  0.00680111, -0.45974325],\n",
       "       [-0.96127772, -0.28315384, -0.13429177, -0.47841588, -0.09289645,\n",
       "        -1.40470819,  0.64338904,  0.83675599, -0.77346169,  0.30620569],\n",
       "       [-0.68815515, -1.2004013 , -0.51378584, -0.60030048,  0.22691763,\n",
       "        -0.94373585,  0.18268286,  0.96719864,  0.93442008, -1.24645636]])"
      ]
     },
     "execution_count": 11,
     "metadata": {},
     "output_type": "execute_result"
    }
   ],
   "source": [
    "# if we need from first row to tenth row but every odd row, and all columns\n",
    "\n",
    "x[1:10:2,::] # to get all columns we can skip the  :: sign "
   ]
  },
  {
   "cell_type": "code",
   "execution_count": 12,
   "id": "a53129e2",
   "metadata": {},
   "outputs": [
    {
     "data": {
      "text/plain": [
       "array([[ 1.04368772, -0.40642585, -0.91323189, -0.68086713],\n",
       "       [-0.85940731,  1.0340649 ,  0.25671156,  0.85950885],\n",
       "       [-1.68571943,  0.61699993,  0.5652763 , -0.10185051],\n",
       "       [ 0.57057312, -0.33892543,  1.16819397, -0.12066376],\n",
       "       [-0.20197296,  0.83397815, -1.57390908,  0.14280119],\n",
       "       [ 0.06661609, -0.03456654,  0.58256946,  0.13552698],\n",
       "       [ 1.00079353,  0.01287839,  1.28494385,  0.02134999],\n",
       "       [-0.96127772, -0.28315384, -0.13429177, -0.47841588],\n",
       "       [-1.24624791, -1.97128312,  1.13802328, -0.21436613],\n",
       "       [-0.68815515, -1.2004013 , -0.51378584, -0.60030048]])"
      ]
     },
     "execution_count": 12,
     "metadata": {},
     "output_type": "execute_result"
    }
   ],
   "source": [
    "# for all rows and first four columns\n",
    "x[::,0:4] # for accesing all rows we have to write :: "
   ]
  },
  {
   "cell_type": "code",
   "execution_count": 13,
   "id": "53af46ba",
   "metadata": {},
   "outputs": [],
   "source": [
    "#lets make a square in which border values are 1 and inside are zeros"
   ]
  },
  {
   "cell_type": "code",
   "execution_count": 15,
   "id": "0e62b126",
   "metadata": {},
   "outputs": [
    {
     "data": {
      "text/plain": [
       "array([[1., 1., 1., 1., 1.],\n",
       "       [1., 1., 1., 1., 1.],\n",
       "       [1., 1., 1., 1., 1.],\n",
       "       [1., 1., 1., 1., 1.],\n",
       "       [1., 1., 1., 1., 1.]])"
      ]
     },
     "execution_count": 15,
     "metadata": {},
     "output_type": "execute_result"
    }
   ],
   "source": [
    "a = np.ones((5,5))\n",
    "a"
   ]
  },
  {
   "cell_type": "code",
   "execution_count": 18,
   "id": "4206afce",
   "metadata": {},
   "outputs": [],
   "source": [
    "a[1:-1,1:-1]=0"
   ]
  },
  {
   "cell_type": "code",
   "execution_count": 19,
   "id": "8b4d8f8a",
   "metadata": {},
   "outputs": [
    {
     "data": {
      "text/plain": [
       "array([[1., 1., 1., 1., 1.],\n",
       "       [1., 0., 0., 0., 1.],\n",
       "       [1., 0., 0., 0., 1.],\n",
       "       [1., 0., 0., 0., 1.],\n",
       "       [1., 1., 1., 1., 1.]])"
      ]
     },
     "execution_count": 19,
     "metadata": {},
     "output_type": "execute_result"
    }
   ],
   "source": [
    "a"
   ]
  },
  {
   "cell_type": "code",
   "execution_count": null,
   "id": "643351e6",
   "metadata": {},
   "outputs": [],
   "source": []
  }
 ],
 "metadata": {
  "kernelspec": {
   "display_name": "Python 3 (ipykernel)",
   "language": "python",
   "name": "python3"
  },
  "language_info": {
   "codemirror_mode": {
    "name": "ipython",
    "version": 3
   },
   "file_extension": ".py",
   "mimetype": "text/x-python",
   "name": "python",
   "nbconvert_exporter": "python",
   "pygments_lexer": "ipython3",
   "version": "3.9.13"
  }
 },
 "nbformat": 4,
 "nbformat_minor": 5
}
