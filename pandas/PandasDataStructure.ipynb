{
 "cells": [
  {
   "cell_type": "code",
   "execution_count": 2,
   "id": "e085fdda",
   "metadata": {},
   "outputs": [],
   "source": [
    "import pandas as pd"
   ]
  },
  {
   "cell_type": "code",
   "execution_count": 3,
   "id": "d97e2ed4",
   "metadata": {
    "scrolled": true
   },
   "outputs": [
    {
     "name": "stdout",
     "output_type": "stream",
     "text": [
      "0    1\n",
      "1    3\n",
      "2    6\n",
      "3    9\n",
      "dtype: int64\n"
     ]
    }
   ],
   "source": [
    "obj = pd.Series([1,3,6,9])\n",
    "print(obj)"
   ]
  },
  {
   "cell_type": "markdown",
   "id": "9d221827",
   "metadata": {},
   "source": [
    "### Index and values in Pandas"
   ]
  },
  {
   "cell_type": "code",
   "execution_count": 4,
   "id": "ba24abcf",
   "metadata": {},
   "outputs": [
    {
     "name": "stdout",
     "output_type": "stream",
     "text": [
      "[1 3 6 9]\n",
      "RangeIndex(start=0, stop=4, step=1)\n"
     ]
    }
   ],
   "source": [
    "print(obj.values)\n",
    "print(obj.index)"
   ]
  },
  {
   "cell_type": "code",
   "execution_count": 5,
   "id": "a4431327",
   "metadata": {},
   "outputs": [
    {
     "name": "stdout",
     "output_type": "stream",
     "text": [
      "a    100\n",
      "b    300\n",
      "c    400\n",
      "d    700\n",
      "dtype: int64\n"
     ]
    }
   ],
   "source": [
    "#we can provide index of our choice\n",
    "obj = pd.Series([100,300,400,700], index = ['a','b','c','d'])\n",
    "print(obj)"
   ]
  },
  {
   "cell_type": "code",
   "execution_count": 6,
   "id": "fbf54941",
   "metadata": {},
   "outputs": [
    {
     "name": "stdout",
     "output_type": "stream",
     "text": [
      "a    100\n",
      "b    300\n",
      "c    400\n",
      "d    700\n",
      "Name: 4 months sale in K, dtype: int64\n"
     ]
    }
   ],
   "source": [
    "# we can also give name the to Series\n",
    "obj = pd.Series([100,300,400,700], index = ['a','b','c','d'], name = '4 months sale in K')\n",
    "print(obj)"
   ]
  },
  {
   "cell_type": "markdown",
   "id": "3772b0ad",
   "metadata": {},
   "source": [
    "### canteen data of one week as example"
   ]
  },
  {
   "cell_type": "code",
   "execution_count": 7,
   "id": "a4e42729",
   "metadata": {},
   "outputs": [
    {
     "name": "stdout",
     "output_type": "stream",
     "text": [
      "mon    100\n",
      "tue     30\n",
      "wed     50\n",
      "thu     34\n",
      "fri     45\n",
      "sat     92\n",
      "sun      0\n",
      "dtype: int64\n"
     ]
    }
   ],
   "source": [
    "sandwich = pd.Series([100,30,50,34,45,92,0],\n",
    "                     index = ['mon','tue','wed','thu','fri','sat','sun'])\n",
    "print(sandwich)"
   ]
  },
  {
   "cell_type": "code",
   "execution_count": 8,
   "id": "5e2f32b8",
   "metadata": {},
   "outputs": [
    {
     "name": "stdout",
     "output_type": "stream",
     "text": [
      "30\n",
      "30\n"
     ]
    }
   ],
   "source": [
    "# we can access data either by locatoin or index\n",
    "print(sandwich[1])\n",
    "print(sandwich['tue'])"
   ]
  },
  {
   "cell_type": "code",
   "execution_count": 9,
   "id": "fdecc5e0",
   "metadata": {},
   "outputs": [
    {
     "name": "stdout",
     "output_type": "stream",
     "text": [
      "thu    34\n",
      "sat    92\n",
      "dtype: int64\n",
      "thu    34\n",
      "sat    92\n",
      "dtype: int64\n"
     ]
    }
   ],
   "source": [
    "# to get data from multiple locations\n",
    "print(sandwich[[3,5]])\n",
    "print(sandwich[['thu','sat']])"
   ]
  },
  {
   "cell_type": "code",
   "execution_count": 10,
   "id": "eba9b7da",
   "metadata": {},
   "outputs": [
    {
     "name": "stdout",
     "output_type": "stream",
     "text": [
      "mon    100\n",
      "wed     50\n",
      "thu     34\n",
      "fri     45\n",
      "sat     92\n",
      "dtype: int64\n"
     ]
    }
   ],
   "source": [
    "#can select some conditional data\n",
    "print(sandwich[sandwich>30])"
   ]
  },
  {
   "cell_type": "code",
   "execution_count": 11,
   "id": "b0b92a42",
   "metadata": {},
   "outputs": [
    {
     "name": "stdout",
     "output_type": "stream",
     "text": [
      "a    1\n",
      "b    2\n",
      "c    4\n",
      "d    5\n",
      "e    6\n",
      "f    8\n",
      "dtype: int32\n"
     ]
    }
   ],
   "source": [
    "# we can use data from numpy to panda series\n",
    "\n",
    "import numpy as np\n",
    "ar = np.array([1,2,4,5,6,8])\n",
    "ind = np.array(['a','b','c','d','e','f'])\n",
    "obj2 = pd.Series(ar, index = ind)\n",
    "print(obj2)"
   ]
  },
  {
   "cell_type": "code",
   "execution_count": 12,
   "id": "369deb01",
   "metadata": {},
   "outputs": [
    {
     "name": "stdout",
     "output_type": "stream",
     "text": [
      "    state  year  pop\n",
      "1st  ohio  2000  1.2\n",
      "2nd  ohio  2001  1.3\n",
      "3rd  ohio  2002  2.3\n",
      "4th    LA  2003  2.5\n",
      "5th    LA  2000  1.2\n",
      "6th    LA  2003  1.6\n",
      "7th   NYC  2004  5.6\n"
     ]
    }
   ],
   "source": [
    "state = ['ohio','ohio','ohio','LA','LA','LA','NYC']\n",
    "data = {'state':state,\n",
    "        'year':[2000,2001,2002,2003,2000,2003,2004],\n",
    "        'pop': [1.2,1.3,2.3,2.5,1.2,1.6,5.6]\n",
    "       }\n",
    "state_pop_df = pd.DataFrame(data,index = ['1st','2nd','3rd','4th','5th','6th','7th'])\n",
    "print(state_pop_df)"
   ]
  },
  {
   "cell_type": "code",
   "execution_count": 13,
   "id": "a3df891e",
   "metadata": {},
   "outputs": [
    {
     "name": "stdout",
     "output_type": "stream",
     "text": [
      "   year  pop state\n",
      "0  2000  1.2  ohio\n",
      "1  2001  1.3  ohio\n",
      "2  2002  2.3  ohio\n",
      "3  2003  2.5    LA\n",
      "4  2000  1.2    LA\n",
      "5  2003  1.6    LA\n",
      "6  2004  5.6   NYC\n"
     ]
    }
   ],
   "source": [
    "# we can change the arrangement of the dataframe\n",
    "state_pop_df = pd.DataFrame(data,columns = ['year','pop','state'])\n",
    "print(state_pop_df)"
   ]
  },
  {
   "cell_type": "code",
   "execution_count": 15,
   "id": "9daa71a0",
   "metadata": {},
   "outputs": [
    {
     "data": {
      "text/html": [
       "<div>\n",
       "<style scoped>\n",
       "    .dataframe tbody tr th:only-of-type {\n",
       "        vertical-align: middle;\n",
       "    }\n",
       "\n",
       "    .dataframe tbody tr th {\n",
       "        vertical-align: top;\n",
       "    }\n",
       "\n",
       "    .dataframe thead th {\n",
       "        text-align: right;\n",
       "    }\n",
       "</style>\n",
       "<table border=\"1\" class=\"dataframe\">\n",
       "  <thead>\n",
       "    <tr style=\"text-align: right;\">\n",
       "      <th></th>\n",
       "      <th>year</th>\n",
       "      <th>pop</th>\n",
       "      <th>state</th>\n",
       "      <th>debt</th>\n",
       "    </tr>\n",
       "  </thead>\n",
       "  <tbody>\n",
       "    <tr>\n",
       "      <th>one</th>\n",
       "      <td>2000</td>\n",
       "      <td>1.2</td>\n",
       "      <td>ohio</td>\n",
       "      <td>NaN</td>\n",
       "    </tr>\n",
       "    <tr>\n",
       "      <th>two</th>\n",
       "      <td>2001</td>\n",
       "      <td>1.3</td>\n",
       "      <td>ohio</td>\n",
       "      <td>NaN</td>\n",
       "    </tr>\n",
       "    <tr>\n",
       "      <th>three</th>\n",
       "      <td>2002</td>\n",
       "      <td>2.3</td>\n",
       "      <td>ohio</td>\n",
       "      <td>NaN</td>\n",
       "    </tr>\n",
       "    <tr>\n",
       "      <th>four</th>\n",
       "      <td>2003</td>\n",
       "      <td>2.5</td>\n",
       "      <td>LA</td>\n",
       "      <td>NaN</td>\n",
       "    </tr>\n",
       "    <tr>\n",
       "      <th>five</th>\n",
       "      <td>2000</td>\n",
       "      <td>1.2</td>\n",
       "      <td>LA</td>\n",
       "      <td>NaN</td>\n",
       "    </tr>\n",
       "  </tbody>\n",
       "</table>\n",
       "</div>"
      ],
      "text/plain": [
       "       year  pop state debt\n",
       "one    2000  1.2  ohio  NaN\n",
       "two    2001  1.3  ohio  NaN\n",
       "three  2002  2.3  ohio  NaN\n",
       "four   2003  2.5    LA  NaN\n",
       "five   2000  1.2    LA  NaN"
      ]
     },
     "execution_count": 15,
     "metadata": {},
     "output_type": "execute_result"
    }
   ],
   "source": [
    "# Adding additional column\n",
    "frame2 = pd.DataFrame(data,columns = ['year','pop','state','debt'],\n",
    "                     index = ['one','two','three','four','five','six','seven'])\n",
    "frame2.head()"
   ]
  },
  {
   "cell_type": "code",
   "execution_count": null,
   "id": "b7ebfcfc",
   "metadata": {},
   "outputs": [],
   "source": [
    "# A column in a DataFrame can be reterieved as a series either by dict-like notation or as attribute"
   ]
  },
  {
   "cell_type": "code",
   "execution_count": 16,
   "id": "1d637c4c",
   "metadata": {},
   "outputs": [
    {
     "name": "stdout",
     "output_type": "stream",
     "text": [
      "{'state': ['ohio', 'ohio', 'ohio', 'LA', 'LA', 'LA', 'NYC'], 'year': [2000, 2001, 2002, 2003, 2000, 2003, 2004], 'pop': [1.2, 1.3, 2.3, 2.5, 1.2, 1.6, 5.6]}\n"
     ]
    }
   ],
   "source": [
    "print(data)"
   ]
  },
  {
   "cell_type": "code",
   "execution_count": 17,
   "id": "3a6ab93a",
   "metadata": {},
   "outputs": [
    {
     "data": {
      "text/plain": [
       "['ohio', 'ohio', 'ohio', 'LA', 'LA', 'LA', 'NYC']"
      ]
     },
     "execution_count": 17,
     "metadata": {},
     "output_type": "execute_result"
    }
   ],
   "source": [
    "data['state']"
   ]
  },
  {
   "cell_type": "code",
   "execution_count": 18,
   "id": "6cff5b9c",
   "metadata": {},
   "outputs": [
    {
     "data": {
      "text/plain": [
       "one      2000\n",
       "two      2001\n",
       "three    2002\n",
       "four     2003\n",
       "five     2000\n",
       "six      2003\n",
       "seven    2004\n",
       "Name: year, dtype: int64"
      ]
     },
     "execution_count": 18,
     "metadata": {},
     "output_type": "execute_result"
    }
   ],
   "source": [
    "#lets try this with dataFRAME\n",
    "frame2['year']  # this is dictionary like notation to extract dataframe data columns"
   ]
  },
  {
   "cell_type": "code",
   "execution_count": 19,
   "id": "373a233b",
   "metadata": {},
   "outputs": [
    {
     "data": {
      "text/plain": [
       "one      2000\n",
       "two      2001\n",
       "three    2002\n",
       "four     2003\n",
       "five     2000\n",
       "six      2003\n",
       "seven    2004\n",
       "Name: year, dtype: int64"
      ]
     },
     "execution_count": 19,
     "metadata": {},
     "output_type": "execute_result"
    }
   ],
   "source": [
    "# lets try attribute style \n",
    "frame2.year"
   ]
  },
  {
   "cell_type": "code",
   "execution_count": 20,
   "id": "7a0b9250",
   "metadata": {},
   "outputs": [
    {
     "name": "stdout",
     "output_type": "stream",
     "text": [
      "7\n"
     ]
    }
   ],
   "source": [
    "frame2 = pd.DataFrame(data,columns = ['year','pop','state','debt'],\n",
    "                     index = ['one','two','three','four','five','six','seven'])\n",
    "print(len(frame2)) # finding number of rows in dataframe"
   ]
  },
  {
   "cell_type": "code",
   "execution_count": 23,
   "id": "0bd694e4",
   "metadata": {},
   "outputs": [
    {
     "name": "stdout",
     "output_type": "stream",
     "text": [
      "[0 1 2 3 4 5 6]\n"
     ]
    }
   ],
   "source": [
    "ln = len(frame2)\n",
    "rng = np.arange(ln)\n",
    "print(rng)"
   ]
  },
  {
   "cell_type": "code",
   "execution_count": 24,
   "id": "22a3335d",
   "metadata": {},
   "outputs": [
    {
     "data": {
      "text/html": [
       "<div>\n",
       "<style scoped>\n",
       "    .dataframe tbody tr th:only-of-type {\n",
       "        vertical-align: middle;\n",
       "    }\n",
       "\n",
       "    .dataframe tbody tr th {\n",
       "        vertical-align: top;\n",
       "    }\n",
       "\n",
       "    .dataframe thead th {\n",
       "        text-align: right;\n",
       "    }\n",
       "</style>\n",
       "<table border=\"1\" class=\"dataframe\">\n",
       "  <thead>\n",
       "    <tr style=\"text-align: right;\">\n",
       "      <th></th>\n",
       "      <th>year</th>\n",
       "      <th>pop</th>\n",
       "      <th>state</th>\n",
       "      <th>debt</th>\n",
       "    </tr>\n",
       "  </thead>\n",
       "  <tbody>\n",
       "    <tr>\n",
       "      <th>one</th>\n",
       "      <td>2000</td>\n",
       "      <td>1.2</td>\n",
       "      <td>ohio</td>\n",
       "      <td>0</td>\n",
       "    </tr>\n",
       "    <tr>\n",
       "      <th>two</th>\n",
       "      <td>2001</td>\n",
       "      <td>1.3</td>\n",
       "      <td>ohio</td>\n",
       "      <td>1</td>\n",
       "    </tr>\n",
       "    <tr>\n",
       "      <th>three</th>\n",
       "      <td>2002</td>\n",
       "      <td>2.3</td>\n",
       "      <td>ohio</td>\n",
       "      <td>2</td>\n",
       "    </tr>\n",
       "    <tr>\n",
       "      <th>four</th>\n",
       "      <td>2003</td>\n",
       "      <td>2.5</td>\n",
       "      <td>LA</td>\n",
       "      <td>3</td>\n",
       "    </tr>\n",
       "    <tr>\n",
       "      <th>five</th>\n",
       "      <td>2000</td>\n",
       "      <td>1.2</td>\n",
       "      <td>LA</td>\n",
       "      <td>4</td>\n",
       "    </tr>\n",
       "    <tr>\n",
       "      <th>six</th>\n",
       "      <td>2003</td>\n",
       "      <td>1.6</td>\n",
       "      <td>LA</td>\n",
       "      <td>5</td>\n",
       "    </tr>\n",
       "    <tr>\n",
       "      <th>seven</th>\n",
       "      <td>2004</td>\n",
       "      <td>5.6</td>\n",
       "      <td>NYC</td>\n",
       "      <td>6</td>\n",
       "    </tr>\n",
       "  </tbody>\n",
       "</table>\n",
       "</div>"
      ],
      "text/plain": [
       "       year  pop state  debt\n",
       "one    2000  1.2  ohio     0\n",
       "two    2001  1.3  ohio     1\n",
       "three  2002  2.3  ohio     2\n",
       "four   2003  2.5    LA     3\n",
       "five   2000  1.2    LA     4\n",
       "six    2003  1.6    LA     5\n",
       "seven  2004  5.6   NYC     6"
      ]
     },
     "execution_count": 24,
     "metadata": {},
     "output_type": "execute_result"
    }
   ],
   "source": [
    "frame2['debt'] = rng\n",
    "frame2"
   ]
  },
  {
   "cell_type": "markdown",
   "id": "56057648",
   "metadata": {},
   "source": [
    "# Function Application and Mapping"
   ]
  },
  {
   "cell_type": "code",
   "execution_count": 26,
   "id": "21eb31f8",
   "metadata": {},
   "outputs": [
    {
     "name": "stdout",
     "output_type": "stream",
     "text": [
      "               b         d         e\n",
      "Utah   -0.704553  1.948404 -0.444879\n",
      "Ohio    0.053271  0.507766 -0.133718\n",
      "Texas   0.381706  0.807391 -2.024940\n",
      "Oregon  0.398183  0.731834  0.421827\n",
      "               b         d         e\n",
      "Utah    0.704553  1.948404  0.444879\n",
      "Ohio    0.053271  0.507766  0.133718\n",
      "Texas   0.381706  0.807391  2.024940\n",
      "Oregon  0.398183  0.731834  0.421827\n"
     ]
    }
   ],
   "source": [
    "frame = frame = pd.DataFrame(np.random.randn(4,3),\n",
    "                            columns = list('bde'),\n",
    "                            index = ['Utah','Ohio','Texas','Oregon'])\n",
    "print(frame)\n",
    "print(np.abs(frame))"
   ]
  },
  {
   "cell_type": "code",
   "execution_count": 27,
   "id": "bd3d54a3",
   "metadata": {},
   "outputs": [
    {
     "name": "stdout",
     "output_type": "stream",
     "text": [
      "0.5077662397270193\n",
      "1.9484043856230175\n"
     ]
    }
   ],
   "source": [
    "print(frame['d'].min())\n",
    "print(frame['d'].max())"
   ]
  },
  {
   "cell_type": "code",
   "execution_count": 29,
   "id": "15a636d3",
   "metadata": {},
   "outputs": [
    {
     "name": "stdout",
     "output_type": "stream",
     "text": [
      "1.4406381458959983\n"
     ]
    }
   ],
   "source": [
    "print(frame['d'].max()-frame['d'].min())"
   ]
  },
  {
   "cell_type": "code",
   "execution_count": 30,
   "id": "6f97ee6f",
   "metadata": {},
   "outputs": [
    {
     "name": "stdout",
     "output_type": "stream",
     "text": [
      "b    1.102736\n",
      "d    1.440638\n",
      "e    2.446767\n",
      "dtype: float64 <class 'pandas.core.series.Series'>\n"
     ]
    }
   ],
   "source": [
    "f = lambda x:x.max()-x.min()\n",
    "df = frame.apply(f) #applied on a column\n",
    "print(df,type(df))"
   ]
  },
  {
   "cell_type": "code",
   "execution_count": 32,
   "id": "21da5e2e",
   "metadata": {},
   "outputs": [
    {
     "name": "stdout",
     "output_type": "stream",
     "text": [
      "Utah      2.652957\n",
      "Ohio      0.641485\n",
      "Texas     2.832331\n",
      "Oregon    0.333650\n",
      "dtype: float64\n"
     ]
    }
   ],
   "source": [
    "# now apply on a row\n",
    "df = frame.apply(f, axis = 1)\n",
    "print(df)"
   ]
  },
  {
   "cell_type": "markdown",
   "id": "4cd40a6c",
   "metadata": {},
   "source": [
    "# Sorting and Ranking"
   ]
  },
  {
   "cell_type": "code",
   "execution_count": 34,
   "id": "7ca79a00",
   "metadata": {},
   "outputs": [
    {
     "name": "stdout",
     "output_type": "stream",
     "text": [
      "       d  a  b  c\n",
      "three  0  1  2  3\n",
      "one    4  5  6  7\n"
     ]
    }
   ],
   "source": [
    "frame = pd.DataFrame(np.arange(8).reshape((2,4)),\n",
    "                    index = ['three','one'],\n",
    "                    columns = ['d','a','b','c'])\n",
    "print(frame)"
   ]
  },
  {
   "cell_type": "code",
   "execution_count": 36,
   "id": "08a39635",
   "metadata": {},
   "outputs": [
    {
     "name": "stdout",
     "output_type": "stream",
     "text": [
      "       d  c  b  a\n",
      "three  0  3  2  1\n",
      "one    4  7  6  5\n"
     ]
    }
   ],
   "source": [
    "print(frame.sort_index(axis = 1, ascending = False))"
   ]
  },
  {
   "cell_type": "code",
   "execution_count": 38,
   "id": "3255b3bd",
   "metadata": {},
   "outputs": [
    {
     "name": "stdout",
     "output_type": "stream",
     "text": [
      "       d  a  b  c\n",
      "one    4  5  6  7\n",
      "three  0  1  2  3\n"
     ]
    }
   ],
   "source": [
    "# to sort in terms of rows\n",
    "print(frame.sort_index())"
   ]
  },
  {
   "cell_type": "code",
   "execution_count": 39,
   "id": "dcd27b8d",
   "metadata": {},
   "outputs": [
    {
     "name": "stdout",
     "output_type": "stream",
     "text": [
      "       a  b  c  d\n",
      "three  1  2  3  0\n",
      "one    5  6  7  4\n"
     ]
    }
   ],
   "source": [
    "# to sort columnwise in ascending order\n",
    "print(frame.sort_index(axis = 1, ascending = True))"
   ]
  },
  {
   "cell_type": "code",
   "execution_count": 40,
   "id": "39cf20f2",
   "metadata": {},
   "outputs": [],
   "source": [
    "# using loc method in python we use indexes to get specific data but usin iloc we can use numbers to get\n",
    "#data from specific location of dataframe\n"
   ]
  },
  {
   "cell_type": "code",
   "execution_count": 41,
   "id": "295813a3",
   "metadata": {},
   "outputs": [],
   "source": [
    "# can use fill_value = 0 to overcome the missing value issue\n",
    "# or can use any other value than 0 in fill_value"
   ]
  },
  {
   "cell_type": "markdown",
   "id": "1706aa7d",
   "metadata": {},
   "source": [
    "# Reindex method"
   ]
  },
  {
   "cell_type": "code",
   "execution_count": 43,
   "id": "6eb2cf4e",
   "metadata": {},
   "outputs": [
    {
     "name": "stdout",
     "output_type": "stream",
     "text": [
      "0      blue\n",
      "3    purple\n",
      "6    yellow\n",
      "dtype: object\n"
     ]
    }
   ],
   "source": [
    "obj3 = pd.Series(['blue','purple','yellow'], index = [0,3,6])\n",
    "print(obj3)\n",
    "\n"
   ]
  },
  {
   "cell_type": "code",
   "execution_count": 44,
   "id": "5d1c52dd",
   "metadata": {},
   "outputs": [
    {
     "data": {
      "text/plain": [
       "0      blue\n",
       "1       NaN\n",
       "2       NaN\n",
       "3    purple\n",
       "4       NaN\n",
       "5       NaN\n",
       "6    yellow\n",
       "7       NaN\n",
       "8       NaN\n",
       "dtype: object"
      ]
     },
     "execution_count": 44,
     "metadata": {},
     "output_type": "execute_result"
    }
   ],
   "source": [
    "# to create more index\n",
    "obj3 = obj3.reindex(range(9))\n",
    "obj3"
   ]
  },
  {
   "cell_type": "code",
   "execution_count": null,
   "id": "2b3c9cb1",
   "metadata": {},
   "outputs": [],
   "source": []
  },
  {
   "cell_type": "code",
   "execution_count": 49,
   "id": "c4179f12",
   "metadata": {},
   "outputs": [
    {
     "name": "stdout",
     "output_type": "stream",
     "text": [
      "0      blue\n",
      "3    purple\n",
      "6    yellow\n",
      "dtype: object\n"
     ]
    },
    {
     "data": {
      "text/plain": [
       "0      blue\n",
       "1      blue\n",
       "2      blue\n",
       "3    purple\n",
       "4    purple\n",
       "5    purple\n",
       "6    yellow\n",
       "7    yellow\n",
       "8    yellow\n",
       "dtype: object"
      ]
     },
     "execution_count": 49,
     "metadata": {},
     "output_type": "execute_result"
    }
   ],
   "source": [
    "# to overcom eth eproblem of NaN we can use 'ffill method' , it will use previous values to fill the upcoming NaN values\n",
    "obj3 = pd.Series(['blue','purple','yellow'], index = [0,3,6])\n",
    "print(obj3)\n",
    "\n",
    "\n",
    "obj3 = obj3.reindex(range(9), method = \"ffill\")\n",
    "obj3"
   ]
  },
  {
   "cell_type": "code",
   "execution_count": 58,
   "id": "580d0e59",
   "metadata": {},
   "outputs": [
    {
     "name": "stdout",
     "output_type": "stream",
     "text": [
      "   Ohio  Texas  California\n",
      "a     0      1           2\n",
      "c     3      4           5\n",
      "d     6      7           8\n",
      "   UTAH  OHIO  CALIFORNIA  TEXAS\n",
      "a     7     7           7      7\n",
      "c     7     7           7      7\n",
      "d     7     7           7      7\n"
     ]
    }
   ],
   "source": [
    "#Column name changing using reindex\n",
    "states = pd.DataFrame(np.arange(9).reshape((3,3)),\n",
    "                      index = ['a','c','d'], columns = ['Ohio','Texas','California'])\n",
    "print(states)\n",
    "\n",
    "states_names = ['UTAH','OHIO','CALIFORNIA','TEXAS']\n",
    "\n",
    "states = states.reindex(columns = states_names, fill_value = np.random.randint(0,10))\n",
    "print(states)"
   ]
  },
  {
   "cell_type": "markdown",
   "id": "a36884e2",
   "metadata": {},
   "source": [
    "# Selection with loc and iloc"
   ]
  },
  {
   "cell_type": "code",
   "execution_count": 59,
   "id": "30dcf30a",
   "metadata": {},
   "outputs": [
    {
     "name": "stdout",
     "output_type": "stream",
     "text": [
      "Name     Alice\n",
      "Age         28\n",
      "City    London\n",
      "Name: 1, dtype: object\n",
      "    Name  Age   City\n",
      "2    Bob   30  Paris\n",
      "3  Emily   22  Tokyo\n",
      "0     John\n",
      "1    Alice\n",
      "2      Bob\n",
      "3    Emily\n",
      "Name: Name, dtype: object\n",
      "0    25\n",
      "1    28\n",
      "Name: Age, dtype: int64\n"
     ]
    }
   ],
   "source": [
    "data = {'Name': ['John', 'Alice', 'Bob', 'Emily'],\n",
    "        'Age': [25, 28, 30, 22],\n",
    "        'City': ['New York', 'London', 'Paris', 'Tokyo']}\n",
    "df = pd.DataFrame(data)\n",
    "\n",
    "# Accessing rows and columns using iloc\n",
    "print(df.iloc[1])         # Access row at position 1\n",
    "print(df.iloc[2:4])       # Access rows at positions 2 and 3\n",
    "print(df.iloc[:, 0])     # Access the first column for all rows\n",
    "print(df.iloc[0:2, 1])    # Access rows 0 and 1, and the second column"
   ]
  },
  {
   "cell_type": "code",
   "execution_count": null,
   "id": "196792cc",
   "metadata": {},
   "outputs": [],
   "source": []
  }
 ],
 "metadata": {
  "kernelspec": {
   "display_name": "Python 3 (ipykernel)",
   "language": "python",
   "name": "python3"
  },
  "language_info": {
   "codemirror_mode": {
    "name": "ipython",
    "version": 3
   },
   "file_extension": ".py",
   "mimetype": "text/x-python",
   "name": "python",
   "nbconvert_exporter": "python",
   "pygments_lexer": "ipython3",
   "version": "3.9.13"
  }
 },
 "nbformat": 4,
 "nbformat_minor": 5
}
