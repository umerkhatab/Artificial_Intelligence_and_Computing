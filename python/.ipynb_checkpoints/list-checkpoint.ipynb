{
 "cells": [
  {
   "cell_type": "code",
   "execution_count": 1,
   "id": "8632e210",
   "metadata": {},
   "outputs": [],
   "source": [
    "alist = [\"umer\",\"umair\",\"hamza\",\"huzaifa\"] # list with name of persons\n",
    "#index    0       1       2       3\n",
    "\n",
    "cities = [\"Porsgrunn\",\"Larvik\",\"Oslo\",\"Bergen\"] # list with the name of cities"
   ]
  },
  {
   "cell_type": "code",
   "execution_count": 2,
   "id": "3edd48b9",
   "metadata": {},
   "outputs": [
    {
     "data": {
      "text/plain": [
       "'umair'"
      ]
     },
     "execution_count": 2,
     "metadata": {},
     "output_type": "execute_result"
    }
   ],
   "source": [
    "# to access the members from a list \n",
    "alist[1]"
   ]
  },
  {
   "cell_type": "code",
   "execution_count": 3,
   "id": "38111c85",
   "metadata": {},
   "outputs": [
    {
     "data": {
      "text/plain": [
       "'Bergen'"
      ]
     },
     "execution_count": 3,
     "metadata": {},
     "output_type": "execute_result"
    }
   ],
   "source": [
    "cities[3]"
   ]
  },
  {
   "cell_type": "code",
   "execution_count": 4,
   "id": "f7c535bf",
   "metadata": {},
   "outputs": [
    {
     "data": {
      "text/plain": [
       "4"
      ]
     },
     "execution_count": 4,
     "metadata": {},
     "output_type": "execute_result"
    }
   ],
   "source": [
    "# to get length of list\n",
    "len(cities)"
   ]
  },
  {
   "cell_type": "code",
   "execution_count": 5,
   "id": "c36719ca",
   "metadata": {},
   "outputs": [],
   "source": [
    "# to add the value at the end of list use the append function\n",
    "cities.append(\"Stavanger\")"
   ]
  },
  {
   "cell_type": "code",
   "execution_count": 6,
   "id": "013377ed",
   "metadata": {},
   "outputs": [
    {
     "data": {
      "text/plain": [
       "['Porsgrunn', 'Larvik', 'Oslo', 'Bergen', 'Stavanger']"
      ]
     },
     "execution_count": 6,
     "metadata": {},
     "output_type": "execute_result"
    }
   ],
   "source": [
    "cities"
   ]
  },
  {
   "cell_type": "code",
   "execution_count": 7,
   "id": "58736043",
   "metadata": {},
   "outputs": [
    {
     "data": {
      "text/plain": [
       "['Porsgrunn', 'Larvik', 'Tromso', 'Oslo', 'Bergen', 'Stavanger']"
      ]
     },
     "execution_count": 7,
     "metadata": {},
     "output_type": "execute_result"
    }
   ],
   "source": [
    "# to add some object to specific index use insert function\n",
    "cities.insert(2, \"Tromso\")\n",
    "cities"
   ]
  },
  {
   "cell_type": "code",
   "execution_count": 8,
   "id": "d2b4c1c1",
   "metadata": {},
   "outputs": [
    {
     "data": {
      "text/plain": [
       "['Porsgrunn',\n",
       " 'Larvik',\n",
       " 'Tromso',\n",
       " 'Oslo',\n",
       " 'Bergen',\n",
       " 'Stavanger',\n",
       " 'Skien',\n",
       " 'Tonsberg']"
      ]
     },
     "execution_count": 8,
     "metadata": {},
     "output_type": "execute_result"
    }
   ],
   "source": [
    "# to append multiple values to the list use extend() function\n",
    "# extend functoin take argument that is iterable \n",
    "\n",
    "cities.extend([\"Skien\",\"Tonsberg\"])\n",
    "cities"
   ]
  },
  {
   "cell_type": "code",
   "execution_count": 9,
   "id": "f5378531",
   "metadata": {},
   "outputs": [
    {
     "data": {
      "text/plain": [
       "1"
      ]
     },
     "execution_count": 9,
     "metadata": {},
     "output_type": "execute_result"
    }
   ],
   "source": [
    "# to check how many time some object exist in list use count function\n",
    "cities.count(\"Oslo\")"
   ]
  },
  {
   "cell_type": "code",
   "execution_count": 10,
   "id": "0355b99e",
   "metadata": {},
   "outputs": [
    {
     "data": {
      "text/plain": [
       "6"
      ]
     },
     "execution_count": 10,
     "metadata": {},
     "output_type": "execute_result"
    }
   ],
   "source": [
    "# to check the index of the item in the list use index function\n",
    "cities.index(\"Skien\")"
   ]
  },
  {
   "cell_type": "code",
   "execution_count": 11,
   "id": "a830ab88",
   "metadata": {},
   "outputs": [
    {
     "data": {
      "text/plain": [
       "['Porsgrunn',\n",
       " 'Larvik',\n",
       " 'Tromso',\n",
       " 'Oslo',\n",
       " 'Bergen',\n",
       " 'Stavanger',\n",
       " 'Skien',\n",
       " 'Tonsberg']"
      ]
     },
     "execution_count": 11,
     "metadata": {},
     "output_type": "execute_result"
    }
   ],
   "source": [
    "#lets copy list by value and by reference\n",
    "cities2 = cities.copy()   # by value\n",
    "cities2"
   ]
  },
  {
   "cell_type": "code",
   "execution_count": 12,
   "id": "1b74a09f",
   "metadata": {},
   "outputs": [
    {
     "data": {
      "text/plain": [
       "['Porsgrunn',\n",
       " 'Larvik',\n",
       " 'Tromso',\n",
       " 'Oslo',\n",
       " 'Bergen',\n",
       " 'Stavanger',\n",
       " 'Skien',\n",
       " 'Tonsberg']"
      ]
     },
     "execution_count": 12,
     "metadata": {},
     "output_type": "execute_result"
    }
   ],
   "source": [
    "cities3 = cities # by reference\n",
    "cities3"
   ]
  },
  {
   "cell_type": "code",
   "execution_count": 13,
   "id": "6232e94e",
   "metadata": {},
   "outputs": [
    {
     "data": {
      "text/plain": [
       "['Porsgrunn',\n",
       " 'Larvik',\n",
       " 'Tromso',\n",
       " 'Oslo',\n",
       " 'Bergen',\n",
       " 'Stavanger',\n",
       " 'Skien',\n",
       " 'Tonsberg',\n",
       " 'Drammen']"
      ]
     },
     "execution_count": 13,
     "metadata": {},
     "output_type": "execute_result"
    }
   ],
   "source": [
    "# if we add another city in cities and then access the cities2 and cities3 list\n",
    "\n",
    "cities.append(\"Drammen\")\n",
    "cities"
   ]
  },
  {
   "cell_type": "code",
   "execution_count": 14,
   "id": "088e91d1",
   "metadata": {},
   "outputs": [
    {
     "name": "stdout",
     "output_type": "stream",
     "text": [
      "['Porsgrunn', 'Larvik', 'Tromso', 'Oslo', 'Bergen', 'Stavanger', 'Skien', 'Tonsberg']\n",
      "['Porsgrunn', 'Larvik', 'Tromso', 'Oslo', 'Bergen', 'Stavanger', 'Skien', 'Tonsberg', 'Drammen']\n"
     ]
    }
   ],
   "source": [
    "#As both cities2 and cities3 are pointing to cities but cities3 is pass by reference so any change in cities will be reflected\n",
    "# in cities3 list and cities2 was passs by value to it make sperate copy and does not affected by changes in cities list\n",
    "\n",
    "print(cities2)\n",
    "print(cities3)"
   ]
  },
  {
   "cell_type": "code",
   "execution_count": 15,
   "id": "d92d08d8",
   "metadata": {},
   "outputs": [
    {
     "name": "stdout",
     "output_type": "stream",
     "text": [
      "['Porsgrunn', 'Larvik', 'Tromso', 'Bergen', 'Stavanger', 'Skien', 'Tonsberg']\n"
     ]
    }
   ],
   "source": [
    "# removing item from the list {del, remove} two differnt ways\n",
    "\n",
    "del cities2[3] #this ask for index\n",
    "print(cities2)"
   ]
  },
  {
   "cell_type": "code",
   "execution_count": 16,
   "id": "209de093",
   "metadata": {},
   "outputs": [
    {
     "name": "stdout",
     "output_type": "stream",
     "text": [
      "['Porsgrunn', 'Larvik', 'Tromso', 'Bergen', 'Stavanger', 'Tonsberg']\n"
     ]
    }
   ],
   "source": [
    "cities2.remove(\"Skien\")  # it ask for value to be removed\n",
    "print(cities2)"
   ]
  },
  {
   "cell_type": "code",
   "execution_count": 17,
   "id": "f188a157",
   "metadata": {},
   "outputs": [
    {
     "name": "stdout",
     "output_type": "stream",
     "text": [
      "['Porsgrunn', 'Larvik', 'Tromso', 'Oslo', 'Bergen', 'Stavanger', 'Skien', 'Tonsberg', 'Drammen']\n"
     ]
    }
   ],
   "source": [
    "# to remove the value from list and store it somewhere we use pop() function, can also pass the specific index value \n",
    "print(cities)"
   ]
  },
  {
   "cell_type": "code",
   "execution_count": 20,
   "id": "0a32adef",
   "metadata": {},
   "outputs": [
    {
     "name": "stdout",
     "output_type": "stream",
     "text": [
      "the poped city is:   Tonsberg\n",
      "the remaining cities are   ['Porsgrunn', 'Larvik', 'Tromso', 'Oslo', 'Bergen', 'Stavanger', 'Skien']\n"
     ]
    }
   ],
   "source": [
    "popedCity = cities.pop()\n",
    "print(f\"the poped city is:   {popedCity}\")\n",
    "print(f\"the remaining cities are   {cities}\")"
   ]
  },
  {
   "cell_type": "code",
   "execution_count": 21,
   "id": "afe67be4",
   "metadata": {},
   "outputs": [],
   "source": [
    "cities.sort()"
   ]
  },
  {
   "cell_type": "code",
   "execution_count": 22,
   "id": "a50a1d36",
   "metadata": {},
   "outputs": [
    {
     "data": {
      "text/plain": [
       "['Bergen', 'Larvik', 'Oslo', 'Porsgrunn', 'Skien', 'Stavanger', 'Tromso']"
      ]
     },
     "execution_count": 22,
     "metadata": {},
     "output_type": "execute_result"
    }
   ],
   "source": [
    "cities"
   ]
  },
  {
   "cell_type": "code",
   "execution_count": 23,
   "id": "3cf36377",
   "metadata": {},
   "outputs": [
    {
     "data": {
      "text/plain": [
       "['Tromso', 'Stavanger', 'Skien', 'Porsgrunn', 'Oslo', 'Larvik', 'Bergen']"
      ]
     },
     "execution_count": 23,
     "metadata": {},
     "output_type": "execute_result"
    }
   ],
   "source": [
    "cities.sort(reverse=True)\n",
    "cities"
   ]
  },
  {
   "cell_type": "code",
   "execution_count": 24,
   "id": "2e126231",
   "metadata": {},
   "outputs": [
    {
     "data": {
      "text/plain": [
       "['Bergen', 'Larvik', 'Oslo', 'Porsgrunn', 'Skien', 'Stavanger', 'Tromso']"
      ]
     },
     "execution_count": 24,
     "metadata": {},
     "output_type": "execute_result"
    }
   ],
   "source": [
    "cities.reverse() # reverse the order of the list\n",
    "cities "
   ]
  },
  {
   "cell_type": "markdown",
   "id": "23f57db3",
   "metadata": {},
   "source": [
    "### Slicing"
   ]
  },
  {
   "cell_type": "code",
   "execution_count": 2,
   "id": "7c743750",
   "metadata": {},
   "outputs": [
    {
     "data": {
      "text/plain": [
       "['Ali', 'Ahmed']"
      ]
     },
     "execution_count": 2,
     "metadata": {},
     "output_type": "execute_result"
    }
   ],
   "source": [
    "student = [\"umer\", \"Ali\",\"Ahmed\",\"waqar\"]\n",
    "student[1:3] # start index inclusive and last index is exclusive"
   ]
  },
  {
   "cell_type": "code",
   "execution_count": 3,
   "id": "bd3c3895",
   "metadata": {},
   "outputs": [
    {
     "data": {
      "text/plain": [
       "['umer', 'Ali', 'Ahmed']"
      ]
     },
     "execution_count": 3,
     "metadata": {},
     "output_type": "execute_result"
    }
   ],
   "source": [
    "student[:3]"
   ]
  },
  {
   "cell_type": "code",
   "execution_count": 8,
   "id": "2a1037e2",
   "metadata": {},
   "outputs": [
    {
     "data": {
      "text/plain": [
       "[1, 4, 7, 10]"
      ]
     },
     "execution_count": 8,
     "metadata": {},
     "output_type": "execute_result"
    }
   ],
   "source": [
    "nums = [1,2,3,4,5,6,7,8,9,10,11,12,13,14,15,16,17]\n",
    "nums[0:12:3] # start:end:step"
   ]
  },
  {
   "cell_type": "code",
   "execution_count": null,
   "id": "b5e3ad7b",
   "metadata": {},
   "outputs": [],
   "source": []
  }
 ],
 "metadata": {
  "kernelspec": {
   "display_name": "Python 3 (ipykernel)",
   "language": "python",
   "name": "python3"
  },
  "language_info": {
   "codemirror_mode": {
    "name": "ipython",
    "version": 3
   },
   "file_extension": ".py",
   "mimetype": "text/x-python",
   "name": "python",
   "nbconvert_exporter": "python",
   "pygments_lexer": "ipython3",
   "version": "3.9.13"
  }
 },
 "nbformat": 4,
 "nbformat_minor": 5
}
