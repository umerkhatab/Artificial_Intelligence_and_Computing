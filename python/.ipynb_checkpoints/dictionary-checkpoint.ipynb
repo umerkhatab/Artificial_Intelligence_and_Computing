{
 "cells": [
  {
   "cell_type": "code",
   "execution_count": 1,
   "id": "0b88a6e7",
   "metadata": {},
   "outputs": [
    {
     "data": {
      "text/plain": [
       "3"
      ]
     },
     "execution_count": 1,
     "metadata": {},
     "output_type": "execute_result"
    }
   ],
   "source": [
    "# myDict = {key:value, key:value, .....} this is the format of dictionary\n",
    "myDict = {\"name\": \"umer khatab\", \"age\":25, \"gender\":\"M\"}\n",
    "len(myDict)"
   ]
  },
  {
   "cell_type": "markdown",
   "id": "ab2cff3a",
   "metadata": {},
   "source": [
    "# Adding new key to an Existing Dictionary"
   ]
  },
  {
   "cell_type": "code",
   "execution_count": 2,
   "id": "630b35bc",
   "metadata": {},
   "outputs": [
    {
     "data": {
      "text/plain": [
       "{'name': 'umer khatab', 'age': 25, 'gender': 'M', 'email': 'xyz@outlook.com'}"
      ]
     },
     "execution_count": 2,
     "metadata": {},
     "output_type": "execute_result"
    }
   ],
   "source": [
    "myDict[\"email\"] = \"xyz@outlook.com\"\n",
    "myDict"
   ]
  },
  {
   "cell_type": "code",
   "execution_count": 6,
   "id": "65a78e8d",
   "metadata": {},
   "outputs": [
    {
     "data": {
      "text/plain": [
       "'xyz@outlook.com'"
      ]
     },
     "execution_count": 6,
     "metadata": {},
     "output_type": "execute_result"
    }
   ],
   "source": [
    "# accessing key value in the dictionary\n",
    "myDict[\"email\"]"
   ]
  },
  {
   "cell_type": "code",
   "execution_count": 7,
   "id": "e4d7b385",
   "metadata": {},
   "outputs": [
    {
     "data": {
      "text/plain": [
       "{1: 'umer', 2: 'ali', 3: 'hamza'}"
      ]
     },
     "execution_count": 7,
     "metadata": {},
     "output_type": "execute_result"
    }
   ],
   "source": [
    "newDic = {1:\"umer\",2:\"ali\",3:\"hamza\"}\n",
    "newDic"
   ]
  },
  {
   "cell_type": "code",
   "execution_count": 8,
   "id": "13e2c26a",
   "metadata": {},
   "outputs": [
    {
     "data": {
      "text/plain": [
       "{1: 'umer', 3: 'hamza'}"
      ]
     },
     "execution_count": 8,
     "metadata": {},
     "output_type": "execute_result"
    }
   ],
   "source": [
    "del newDic[2]\n",
    "newDic"
   ]
  },
  {
   "cell_type": "code",
   "execution_count": 9,
   "id": "11816c5a",
   "metadata": {},
   "outputs": [
    {
     "data": {
      "text/plain": [
       "{'name': 'umer khatab', 'age': 25, 'gender': 'M', 'email': 'xyz@outlook.com'}"
      ]
     },
     "execution_count": 9,
     "metadata": {},
     "output_type": "execute_result"
    }
   ],
   "source": [
    "#updating dictionary\n",
    "myDict"
   ]
  },
  {
   "cell_type": "code",
   "execution_count": 10,
   "id": "2ead748e",
   "metadata": {},
   "outputs": [
    {
     "data": {
      "text/plain": [
       "{'name': 'Asad majid', 'age': 25, 'gender': 'M', 'email': 'xyz@outlook.com'}"
      ]
     },
     "execution_count": 10,
     "metadata": {},
     "output_type": "execute_result"
    }
   ],
   "source": [
    "#lets update name\n",
    "myDict[\"name\"] = \"Asad majid\"\n",
    "myDict"
   ]
  },
  {
   "cell_type": "code",
   "execution_count": 11,
   "id": "285a7dd4",
   "metadata": {},
   "outputs": [],
   "source": [
    "# same key cannot be dictionary twice\n",
    "# the latest key will overwrite the previous if written twice\n"
   ]
  },
  {
   "cell_type": "code",
   "execution_count": 14,
   "id": "8b3251b0",
   "metadata": {},
   "outputs": [
    {
     "name": "stdout",
     "output_type": "stream",
     "text": [
      "name\n",
      "age\n",
      "gender\n",
      "email\n"
     ]
    }
   ],
   "source": [
    "#iterating the dictionary\n",
    "for key in myDict.keys():\n",
    "    print(key)"
   ]
  },
  {
   "cell_type": "code",
   "execution_count": 15,
   "id": "ee13dc20",
   "metadata": {},
   "outputs": [
    {
     "name": "stdout",
     "output_type": "stream",
     "text": [
      "Asad majid\n",
      "25\n",
      "M\n",
      "xyz@outlook.com\n"
     ]
    }
   ],
   "source": [
    "for val in myDict.values():\n",
    "    print(val)"
   ]
  },
  {
   "cell_type": "code",
   "execution_count": 16,
   "id": "4338fe99",
   "metadata": {},
   "outputs": [
    {
     "name": "stdout",
     "output_type": "stream",
     "text": [
      "('name', 'Asad majid')\n",
      "('age', 25)\n",
      "('gender', 'M')\n",
      "('email', 'xyz@outlook.com')\n"
     ]
    }
   ],
   "source": [
    "for keyVal in myDict.items():\n",
    "    print(keyVal)"
   ]
  },
  {
   "cell_type": "code",
   "execution_count": 22,
   "id": "a7a77022",
   "metadata": {},
   "outputs": [
    {
     "name": "stdout",
     "output_type": "stream",
     "text": [
      "majeed\n"
     ]
    }
   ],
   "source": [
    "# Dictionary that holds list\n",
    "employee = {\"Name\":\"Ali\",\"ChildrenName\":[\"aslam\",\"abid\",\"majeed\"]}\n",
    "print(employee[\"ChildrenName\"][2])"
   ]
  },
  {
   "cell_type": "code",
   "execution_count": 27,
   "id": "9bc31933",
   "metadata": {},
   "outputs": [
    {
     "name": "stdout",
     "output_type": "stream",
     "text": [
      "Details of hamza: {'Class': '7 Standard', 'Age': 15}\n",
      "The age of zaid is:  19\n"
     ]
    }
   ],
   "source": [
    "#dictionary that holds another dictionary\n",
    "employee2 = {\"Name\":\"Ali\",\"Children\":{\"hamza\":{\"Class\":\"7 Standard\",\"Age\":15},\"zaid\":{\"Class\":\"12 standard\",\"Age\":19}}}\n",
    "print(\"Details of hamza:\" , employee2[\"Children\"][\"hamza\"])\n",
    "print(\"The age of zaid is: \",employee2[\"Children\"][\"zaid\"][\"Age\"])"
   ]
  },
  {
   "cell_type": "code",
   "execution_count": null,
   "id": "388cef09",
   "metadata": {},
   "outputs": [],
   "source": []
  }
 ],
 "metadata": {
  "kernelspec": {
   "display_name": "Python 3 (ipykernel)",
   "language": "python",
   "name": "python3"
  },
  "language_info": {
   "codemirror_mode": {
    "name": "ipython",
    "version": 3
   },
   "file_extension": ".py",
   "mimetype": "text/x-python",
   "name": "python",
   "nbconvert_exporter": "python",
   "pygments_lexer": "ipython3",
   "version": "3.9.13"
  }
 },
 "nbformat": 4,
 "nbformat_minor": 5
}
