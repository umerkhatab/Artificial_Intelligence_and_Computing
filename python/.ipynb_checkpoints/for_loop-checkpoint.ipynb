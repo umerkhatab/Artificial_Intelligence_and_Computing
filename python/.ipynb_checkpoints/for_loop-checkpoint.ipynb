{
 "cells": [
  {
   "cell_type": "markdown",
   "id": "78203d5a",
   "metadata": {},
   "source": [
    "# for loop"
   ]
  },
  {
   "cell_type": "code",
   "execution_count": 2,
   "id": "88e0643d",
   "metadata": {},
   "outputs": [
    {
     "name": "stdout",
     "output_type": "stream",
     "text": [
      "0 umer\n",
      "1 umer\n",
      "2 umer\n",
      "3 umer\n",
      "4 umer\n"
     ]
    }
   ],
   "source": [
    "for a in range(5): # start from 0 and 5 is exclusive\n",
    "    print(a,\"umer\")"
   ]
  },
  {
   "cell_type": "code",
   "execution_count": 3,
   "id": "cfb1330a",
   "metadata": {},
   "outputs": [
    {
     "name": "stdout",
     "output_type": "stream",
     "text": [
      "1\n",
      "2\n",
      "3\n",
      "4\n",
      "5\n",
      "6\n",
      "7\n",
      "8\n",
      "9\n"
     ]
    }
   ],
   "source": [
    "# by default range value starts from zero but we can give starting point as well\n",
    "for number in range(1,10):\n",
    "    print(number)"
   ]
  },
  {
   "cell_type": "code",
   "execution_count": 5,
   "id": "dacfe18a",
   "metadata": {},
   "outputs": [
    {
     "name": "stdout",
     "output_type": "stream",
     "text": [
      "1\n",
      "3\n",
      "5\n",
      "7\n",
      "9\n"
     ]
    }
   ],
   "source": [
    "# to give step\n",
    "for num in range(1,10,2):\n",
    "    print(num)"
   ]
  },
  {
   "cell_type": "code",
   "execution_count": 7,
   "id": "0b74224e",
   "metadata": {},
   "outputs": [
    {
     "name": "stdout",
     "output_type": "stream",
     "text": [
      " The city under observation is  Oslo\n",
      " The city under observation is  Bergen\n",
      " The city under observation is  Skien\n"
     ]
    }
   ],
   "source": [
    "cities = [\"Oslo\",\"Bergen\",\"Skien\"]\n",
    "for city in cities:\n",
    "    print(f\" The city under observation is  {city}\")"
   ]
  },
  {
   "cell_type": "code",
   "execution_count": 8,
   "id": "10a0320f",
   "metadata": {},
   "outputs": [
    {
     "name": "stdout",
     "output_type": "stream",
     "text": [
      "N\n",
      "0\n",
      "R\n",
      "W\n",
      "A\n",
      "Y\n"
     ]
    }
   ],
   "source": [
    "# if in for loop a list is passed then it will take every element one by one from list\n",
    "# if for loop is applied to some string then it will take each character one by one \n",
    "\n",
    "country = \"N0RWAY\"\n",
    "for char in country:\n",
    "    print(char)"
   ]
  },
  {
   "cell_type": "code",
   "execution_count": 9,
   "id": "74e2e0a3",
   "metadata": {},
   "outputs": [
    {
     "name": "stdout",
     "output_type": "stream",
     "text": [
      "N0RWAY\n",
      "Pakistan\n"
     ]
    }
   ],
   "source": [
    "country = \"N0RWAY\", \"Pakistan\" # this time country variable becomes tuple so when loop is applied it will take each element\n",
    "for char in country:\n",
    "    print(char)"
   ]
  },
  {
   "cell_type": "markdown",
   "id": "3b494888",
   "metadata": {},
   "source": [
    "# break and continue in for loop"
   ]
  },
  {
   "cell_type": "code",
   "execution_count": 10,
   "id": "b48a9272",
   "metadata": {},
   "outputs": [
    {
     "name": "stdout",
     "output_type": "stream",
     "text": [
      "1\n",
      "33\n",
      "45\n"
     ]
    }
   ],
   "source": [
    "for number in [1,33,45,60,80]:\n",
    "    if number%2==0:\n",
    "        break # if the condition met then the loop will be terminated\n",
    "    print(number)"
   ]
  },
  {
   "cell_type": "code",
   "execution_count": 13,
   "id": "3a2344f4",
   "metadata": {},
   "outputs": [
    {
     "name": "stdout",
     "output_type": "stream",
     "text": [
      "0\n",
      "1\n",
      "2\n",
      "3\n",
      "5\n",
      "6\n",
      "8\n",
      "9\n"
     ]
    }
   ],
   "source": [
    "# in continue if condition becomes true then the next line will not be executed but loop will continue till end\n",
    "for number in range(10):\n",
    "    if number == 7 or number == 4:\n",
    "        continue\n",
    "    print(number)"
   ]
  },
  {
   "cell_type": "markdown",
   "id": "1814de41",
   "metadata": {},
   "source": [
    "# nested for loop"
   ]
  },
  {
   "cell_type": "code",
   "execution_count": 14,
   "id": "45179322",
   "metadata": {},
   "outputs": [
    {
     "name": "stdout",
     "output_type": "stream",
     "text": [
      "inner loop begins\n",
      "0 c\n",
      "0 h\n",
      "0 i\n",
      "0 n\n",
      "0 a\n",
      "inner loop begins\n",
      "1 c\n",
      "1 h\n",
      "1 i\n",
      "1 n\n",
      "1 a\n",
      "inner loop begins\n",
      "2 c\n",
      "2 h\n",
      "2 i\n",
      "2 n\n",
      "2 a\n",
      "inner loop begins\n",
      "3 c\n",
      "3 h\n",
      "3 i\n",
      "3 n\n",
      "3 a\n",
      "inner loop begins\n",
      "4 c\n",
      "4 h\n",
      "4 i\n",
      "4 n\n",
      "4 a\n"
     ]
    }
   ],
   "source": [
    "for a in range(5):\n",
    "    print(\"inner loop begins\")\n",
    "    for char in \"china\":\n",
    "        print(a,char)"
   ]
  },
  {
   "cell_type": "code",
   "execution_count": null,
   "id": "8a85c9b1",
   "metadata": {},
   "outputs": [],
   "source": []
  }
 ],
 "metadata": {
  "kernelspec": {
   "display_name": "Python 3 (ipykernel)",
   "language": "python",
   "name": "python3"
  },
  "language_info": {
   "codemirror_mode": {
    "name": "ipython",
    "version": 3
   },
   "file_extension": ".py",
   "mimetype": "text/x-python",
   "name": "python",
   "nbconvert_exporter": "python",
   "pygments_lexer": "ipython3",
   "version": "3.9.13"
  }
 },
 "nbformat": 4,
 "nbformat_minor": 5
}
