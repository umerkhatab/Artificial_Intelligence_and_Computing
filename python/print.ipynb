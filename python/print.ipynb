{
 "cells": [
  {
   "cell_type": "code",
   "execution_count": 2,
   "id": "92641d10",
   "metadata": {},
   "outputs": [
    {
     "name": "stdout",
     "output_type": "stream",
     "text": [
      "Pakistan/India/Bangladesh\n"
     ]
    }
   ],
   "source": [
    "print('Pakistan','India','Bangladesh',sep='/') # seperator in print"
   ]
  },
  {
   "cell_type": "code",
   "execution_count": 4,
   "id": "7d0d6cb9",
   "metadata": {},
   "outputs": [
    {
     "name": "stdout",
     "output_type": "stream",
     "text": [
      "hello1\n",
      "hello2\thello3\n",
      "\n",
      "hello4\n"
     ]
    }
   ],
   "source": [
    "print('hello1',end='\\n') #end option in print\n",
    "print('hello2',end='\\t')\n",
    "print('hello3',end='\\n\\n')\n",
    "print('hello4',end='\\n')"
   ]
  },
  {
   "cell_type": "code",
   "execution_count": null,
   "id": "0e541cf1",
   "metadata": {},
   "outputs": [],
   "source": []
  }
 ],
 "metadata": {
  "kernelspec": {
   "display_name": "Python 3 (ipykernel)",
   "language": "python",
   "name": "python3"
  },
  "language_info": {
   "codemirror_mode": {
    "name": "ipython",
    "version": 3
   },
   "file_extension": ".py",
   "mimetype": "text/x-python",
   "name": "python",
   "nbconvert_exporter": "python",
   "pygments_lexer": "ipython3",
   "version": "3.9.13"
  }
 },
 "nbformat": 4,
 "nbformat_minor": 5
}
