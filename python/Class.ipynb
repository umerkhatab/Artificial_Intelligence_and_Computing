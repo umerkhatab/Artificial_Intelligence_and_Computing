{
 "cells": [
  {
   "cell_type": "code",
   "execution_count": 39,
   "id": "691e6dcb",
   "metadata": {},
   "outputs": [],
   "source": [
    "class Car():\n",
    "    # attributes >> are variables in programming\n",
    "    def __init__(self,make, model,year):\n",
    "        self.make = make\n",
    "        self.model = model\n",
    "        self.year = year\n",
    "        self.battery = \"200amp\" #default attribute\n",
    "    #behaviuor >> are functions in programming\n",
    "    \n",
    "    def descriptionCar(self):\n",
    "        print(f\"The make of the car is {self.make}\")\n",
    "        print(f\"The model of the car is {self.model}\")\n",
    "        print(f\"The year of the car is {self.year}\")\n",
    "        \n",
    "    def move(self):\n",
    "        print(f\"{self.make} is moving with 120km/h\")\n",
    "        \n",
    "    def applyingBreak():\n",
    "        print(f\"{self.model} applied a break\")\n",
    "        \n",
    "    def desBattery(self):\n",
    "        print(f\"the battery of the car is {self.battery}\")\n",
    "        \n",
    "    # instead of setting battery size through object lets define new function\n",
    "    \n",
    "    def updateBattery(self,newSize):\n",
    "        self.battery = newSize\n",
    "        \n",
    "    def getbatterySize(self):\n",
    "        print(f\" the size of your car battery is {self.battery}\")"
   ]
  },
  {
   "cell_type": "markdown",
   "id": "be13801c",
   "metadata": {},
   "source": [
    "# objects of class"
   ]
  },
  {
   "cell_type": "code",
   "execution_count": 40,
   "id": "3ea49066",
   "metadata": {},
   "outputs": [],
   "source": [
    "car1 = Car(\"Honda\",\"Civic\",2019) \n",
    "car2 = Car(\"Toyota\",\"Fortuner\",2022)"
   ]
  },
  {
   "cell_type": "code",
   "execution_count": 20,
   "id": "50c7f24f",
   "metadata": {},
   "outputs": [
    {
     "data": {
      "text/plain": [
       "'Honda'"
      ]
     },
     "execution_count": 20,
     "metadata": {},
     "output_type": "execute_result"
    }
   ],
   "source": [
    "car1.make"
   ]
  },
  {
   "cell_type": "code",
   "execution_count": 21,
   "id": "814f2a5b",
   "metadata": {},
   "outputs": [
    {
     "data": {
      "text/plain": [
       "'Toyota'"
      ]
     },
     "execution_count": 21,
     "metadata": {},
     "output_type": "execute_result"
    }
   ],
   "source": [
    "car2.make"
   ]
  },
  {
   "cell_type": "code",
   "execution_count": 22,
   "id": "e74573ee",
   "metadata": {},
   "outputs": [
    {
     "name": "stdout",
     "output_type": "stream",
     "text": [
      "The make of the car is Toyota\n",
      "The model of the car is Fortuner\n",
      "The year of the car is 2022\n"
     ]
    }
   ],
   "source": [
    "car2.descriptionCar()"
   ]
  },
  {
   "cell_type": "code",
   "execution_count": 23,
   "id": "f23edc14",
   "metadata": {},
   "outputs": [
    {
     "name": "stdout",
     "output_type": "stream",
     "text": [
      "The make of the car is Honda\n",
      "The model of the car is Civic\n",
      "The year of the car is 2019\n"
     ]
    }
   ],
   "source": [
    "car1.descriptionCar()"
   ]
  },
  {
   "cell_type": "markdown",
   "id": "08bcb9fe",
   "metadata": {},
   "source": [
    "# changing value of an attribute"
   ]
  },
  {
   "cell_type": "code",
   "execution_count": 24,
   "id": "0d65c734",
   "metadata": {},
   "outputs": [
    {
     "data": {
      "text/plain": [
       "'Fortuner'"
      ]
     },
     "execution_count": 24,
     "metadata": {},
     "output_type": "execute_result"
    }
   ],
   "source": [
    "car2.model"
   ]
  },
  {
   "cell_type": "code",
   "execution_count": 25,
   "id": "943df694",
   "metadata": {},
   "outputs": [
    {
     "data": {
      "text/plain": [
       "2022"
      ]
     },
     "execution_count": 25,
     "metadata": {},
     "output_type": "execute_result"
    }
   ],
   "source": [
    "car2.year"
   ]
  },
  {
   "cell_type": "code",
   "execution_count": 26,
   "id": "fd56cac1",
   "metadata": {},
   "outputs": [],
   "source": [
    "car2.year = 2023"
   ]
  },
  {
   "cell_type": "code",
   "execution_count": 27,
   "id": "cf81687e",
   "metadata": {},
   "outputs": [
    {
     "data": {
      "text/plain": [
       "2023"
      ]
     },
     "execution_count": 27,
     "metadata": {},
     "output_type": "execute_result"
    }
   ],
   "source": [
    "car2.year"
   ]
  },
  {
   "cell_type": "code",
   "execution_count": 28,
   "id": "387301ce",
   "metadata": {},
   "outputs": [
    {
     "data": {
      "text/plain": [
       "'200amp'"
      ]
     },
     "execution_count": 28,
     "metadata": {},
     "output_type": "execute_result"
    }
   ],
   "source": [
    "car1.battery"
   ]
  },
  {
   "cell_type": "code",
   "execution_count": 29,
   "id": "9e90b455",
   "metadata": {},
   "outputs": [
    {
     "data": {
      "text/plain": [
       "'300amp'"
      ]
     },
     "execution_count": 29,
     "metadata": {},
     "output_type": "execute_result"
    }
   ],
   "source": [
    "car1.battery = \"300amp\"\n",
    "car1.battery"
   ]
  },
  {
   "cell_type": "code",
   "execution_count": 30,
   "id": "ffd32c00",
   "metadata": {},
   "outputs": [
    {
     "data": {
      "text/plain": [
       "'200amp'"
      ]
     },
     "execution_count": 30,
     "metadata": {},
     "output_type": "execute_result"
    }
   ],
   "source": [
    "car2.battery"
   ]
  },
  {
   "cell_type": "code",
   "execution_count": 41,
   "id": "cd23610e",
   "metadata": {},
   "outputs": [
    {
     "name": "stdout",
     "output_type": "stream",
     "text": [
      " the size of your car battery is 200amp\n"
     ]
    }
   ],
   "source": [
    "car1.getbatterySize()"
   ]
  },
  {
   "cell_type": "code",
   "execution_count": 42,
   "id": "770440a6",
   "metadata": {},
   "outputs": [
    {
     "name": "stdout",
     "output_type": "stream",
     "text": [
      " the size of your car battery is 400amp\n"
     ]
    }
   ],
   "source": [
    "car2.updateBattery(\"400amp\")\n",
    "car2.getbatterySize()"
   ]
  },
  {
   "cell_type": "code",
   "execution_count": null,
   "id": "63b99594",
   "metadata": {},
   "outputs": [],
   "source": []
  }
 ],
 "metadata": {
  "kernelspec": {
   "display_name": "Python 3 (ipykernel)",
   "language": "python",
   "name": "python3"
  },
  "language_info": {
   "codemirror_mode": {
    "name": "ipython",
    "version": 3
   },
   "file_extension": ".py",
   "mimetype": "text/x-python",
   "name": "python",
   "nbconvert_exporter": "python",
   "pygments_lexer": "ipython3",
   "version": "3.9.13"
  }
 },
 "nbformat": 4,
 "nbformat_minor": 5
}
