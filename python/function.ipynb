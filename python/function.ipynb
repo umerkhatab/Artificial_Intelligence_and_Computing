{
 "cells": [
  {
   "cell_type": "markdown",
   "id": "35fdb890",
   "metadata": {},
   "source": [
    "# function"
   ]
  },
  {
   "cell_type": "code",
   "execution_count": 1,
   "id": "52e97e6a",
   "metadata": {},
   "outputs": [
    {
     "name": "stdout",
     "output_type": "stream",
     "text": [
      "10\n"
     ]
    }
   ],
   "source": [
    "# parameter less function\n",
    "def add():\n",
    "    print(5+5)\n",
    "    \n",
    "add()"
   ]
  },
  {
   "cell_type": "code",
   "execution_count": 2,
   "id": "8f44a8c3",
   "metadata": {},
   "outputs": [
    {
     "name": "stdout",
     "output_type": "stream",
     "text": [
      "8\n"
     ]
    }
   ],
   "source": [
    "# parametrized function\n",
    "def add(a,b):\n",
    "    print(a+b)\n",
    "    \n",
    "add(6,2)"
   ]
  },
  {
   "cell_type": "code",
   "execution_count": 10,
   "id": "986990c4",
   "metadata": {},
   "outputs": [
    {
     "name": "stdout",
     "output_type": "stream",
     "text": [
      "umer abbasi khatab \n"
     ]
    }
   ],
   "source": [
    "#default parameters\n",
    "def fullName(first,last=\"\",middle=\" \"):\n",
    "    print(first+middle+last)\n",
    "\n",
    "fullName(\"umer \",\"khatab \",\"abbasi \")"
   ]
  },
  {
   "cell_type": "code",
   "execution_count": 13,
   "id": "48ccbaa1",
   "metadata": {},
   "outputs": [
    {
     "name": "stdout",
     "output_type": "stream",
     "text": [
      "your order for pizza 12 of ChickenTikka with ('OLIVES', 'FRUITS') is ready\n"
     ]
    }
   ],
   "source": [
    "#dealing with unknown number of arguments\n",
    "#WE can use the parameter with * it will deals with arbitriary arguments\n",
    "# here *toppings is arbitirary parameter can deal with number of unknown arguments and store in the from of tuple\n",
    "def pizzorder(size,flavour,*toppings):\n",
    "    print(f\"your order for pizza {size} of {flavour} with {toppings} is ready\")\n",
    "\n",
    "pizzorder(12,\"ChickenTikka\",\"OLIVES\",\"FRUITS\")"
   ]
  },
  {
   "cell_type": "markdown",
   "id": "61b08853",
   "metadata": {},
   "source": [
    "# return values from functions\n"
   ]
  },
  {
   "cell_type": "code",
   "execution_count": 14,
   "id": "4dcaa4ae",
   "metadata": {},
   "outputs": [],
   "source": [
    "def add(val1,val2):\n",
    "    ans = val1+val2\n",
    "    return ans, \"abc\" # return must be the last keword in the function as value after this will no execute\n",
    "                        # we can return multiple values and it will be store in the tuple\n",
    "    \n"
   ]
  },
  {
   "cell_type": "code",
   "execution_count": 16,
   "id": "26ea772b",
   "metadata": {},
   "outputs": [
    {
     "data": {
      "text/plain": [
       "(5, 'abc')"
      ]
     },
     "execution_count": 16,
     "metadata": {},
     "output_type": "execute_result"
    }
   ],
   "source": [
    "result = add(2,3)\n",
    "result"
   ]
  },
  {
   "cell_type": "markdown",
   "id": "18426102",
   "metadata": {},
   "source": [
    "# using functions as a variables"
   ]
  },
  {
   "cell_type": "code",
   "execution_count": 18,
   "id": "589d6f0f",
   "metadata": {},
   "outputs": [
    {
     "data": {
      "text/plain": [
       "7"
      ]
     },
     "execution_count": 18,
     "metadata": {},
     "output_type": "execute_result"
    }
   ],
   "source": [
    "def addition(a,b):\n",
    "    return a+b\n",
    "def subtraction(a,b):\n",
    "    return a-b\n",
    "result = addition(2,3) + subtraction(4,2)\n",
    "# 7                5             2\n",
    "result"
   ]
  },
  {
   "cell_type": "markdown",
   "id": "f045749f",
   "metadata": {},
   "source": [
    "# function within a function"
   ]
  },
  {
   "cell_type": "code",
   "execution_count": 20,
   "id": "cc4dbbd5",
   "metadata": {},
   "outputs": [
    {
     "name": "stdout",
     "output_type": "stream",
     "text": [
      "the salary is 50000\n"
     ]
    }
   ],
   "source": [
    "def commisionCal(sales):\n",
    "    if sales>100:\n",
    "        return 100*100\n",
    "    elif sales>50:\n",
    "        return 50*50\n",
    "    else:\n",
    "        return 0\n",
    "\n",
    "def salary(basic,sales):\n",
    "    grossSalary = basic + commisionCal(sales)  # function within a function\n",
    "    print(f\"the salary is {grossSalary}\")\n",
    "    \n",
    "salary(50000,50) # calling function"
   ]
  },
  {
   "cell_type": "markdown",
   "id": "d47ed93a",
   "metadata": {},
   "source": [
    "# while loop"
   ]
  },
  {
   "cell_type": "code",
   "execution_count": null,
   "id": "3c861abe",
   "metadata": {},
   "outputs": [],
   "source": [
    "# setting a flag in while loop to control to user \n",
    "\n",
    "a = True\n",
    "favFood = []\n",
    "while a:\n",
    "    userinput = input(\"Enter name of favourite or enter Q to quit : \")\n",
    "    if userinput == \"Q\":\n",
    "        a = False\n",
    "    else:\n",
    "        favFood.append(userinput)\n",
    "\n",
    "favFood"
   ]
  },
  {
   "cell_type": "code",
   "execution_count": null,
   "id": "1c081882",
   "metadata": {},
   "outputs": [],
   "source": []
  }
 ],
 "metadata": {
  "kernelspec": {
   "display_name": "Python 3 (ipykernel)",
   "language": "python",
   "name": "python3"
  },
  "language_info": {
   "codemirror_mode": {
    "name": "ipython",
    "version": 3
   },
   "file_extension": ".py",
   "mimetype": "text/x-python",
   "name": "python",
   "nbconvert_exporter": "python",
   "pygments_lexer": "ipython3",
   "version": "3.9.13"
  }
 },
 "nbformat": 4,
 "nbformat_minor": 5
}
