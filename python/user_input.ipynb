{
 "cells": [
  {
   "cell_type": "code",
   "execution_count": 1,
   "id": "9006f4ed",
   "metadata": {},
   "outputs": [
    {
     "name": "stdout",
     "output_type": "stream",
     "text": [
      "Enter your name\n",
      "Umer Khatab\n",
      "You entered your name as : Umer Khatab\n"
     ]
    }
   ],
   "source": [
    "#whenever getting input from user we can use input() function in python\n",
    "#By default it's prompt is string and we can use typecasting to convert to other data type\n",
    "\n",
    "print(\"Enter your name\")\n",
    "name = input()\n",
    "\n",
    "print(\"You entered your name as : \" + name)"
   ]
  },
  {
   "cell_type": "code",
   "execution_count": 2,
   "id": "c8610854",
   "metadata": {},
   "outputs": [
    {
     "name": "stdout",
     "output_type": "stream",
     "text": [
      "Enter number for addition\n",
      "10\n",
      "20\n",
      "1020\n"
     ]
    }
   ],
   "source": [
    "print(\"Enter number for addition\")\n",
    "num1 = input()\n",
    "num2 = input()\n",
    "\n",
    "print(num1 + num2)"
   ]
  },
  {
   "cell_type": "code",
   "execution_count": 4,
   "id": "63d85477",
   "metadata": {},
   "outputs": [
    {
     "name": "stdout",
     "output_type": "stream",
     "text": [
      "Enter number for addition\n",
      "3\n",
      "3\n",
      "6\n"
     ]
    }
   ],
   "source": [
    "#lets try with typecasting\n",
    "print(\"Enter number for addition\")\n",
    "num3 = int(input())\n",
    "num4 = int(input())\n",
    "\n",
    "print(num3 + num4)"
   ]
  },
  {
   "cell_type": "code",
   "execution_count": 5,
   "id": "29b74b7b",
   "metadata": {},
   "outputs": [
    {
     "name": "stdout",
     "output_type": "stream",
     "text": [
      "Enter number for addition\n",
      "3\n",
      "3\n",
      "6.0\n"
     ]
    }
   ],
   "source": [
    "print(\"Enter number for addition\")\n",
    "num5 = float(input())\n",
    "num6 = float(input())\n",
    "\n",
    "print(num5 + num6)"
   ]
  },
  {
   "cell_type": "code",
   "execution_count": null,
   "id": "53bf7d18",
   "metadata": {},
   "outputs": [],
   "source": []
  }
 ],
 "metadata": {
  "kernelspec": {
   "display_name": "Python 3 (ipykernel)",
   "language": "python",
   "name": "python3"
  },
  "language_info": {
   "codemirror_mode": {
    "name": "ipython",
    "version": 3
   },
   "file_extension": ".py",
   "mimetype": "text/x-python",
   "name": "python",
   "nbconvert_exporter": "python",
   "pygments_lexer": "ipython3",
   "version": "3.9.13"
  }
 },
 "nbformat": 4,
 "nbformat_minor": 5
}
