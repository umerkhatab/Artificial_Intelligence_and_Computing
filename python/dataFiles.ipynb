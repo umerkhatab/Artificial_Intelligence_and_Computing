{
 "cells": [
  {
   "cell_type": "markdown",
   "id": "df876c8e",
   "metadata": {},
   "source": [
    "# Data Files"
   ]
  },
  {
   "cell_type": "code",
   "execution_count": 1,
   "id": "93a62e1a",
   "metadata": {},
   "outputs": [],
   "source": [
    "# writing to a text file\n",
    "# With open(\"myFile.txt\",\"w\") as file:\n",
    "#     file.write(\"This is my file\")"
   ]
  },
  {
   "cell_type": "code",
   "execution_count": 2,
   "id": "b70006bf",
   "metadata": {},
   "outputs": [],
   "source": [
    "# reading from text file\n",
    "# With open(\"myFile.txt\",\"r\") as file:\n"
   ]
  },
  {
   "cell_type": "code",
   "execution_count": 3,
   "id": "5fee0608",
   "metadata": {},
   "outputs": [],
   "source": [
    "#Append mode\n",
    "# With open(\"myFile.txt\",\"a\") as file:\n",
    "#     file.write(\"Append this content\")"
   ]
  },
  {
   "cell_type": "code",
   "execution_count": 7,
   "id": "e2d2bd2c",
   "metadata": {},
   "outputs": [
    {
     "name": "stdout",
     "output_type": "stream",
     "text": [
      "this is a test file\n"
     ]
    }
   ],
   "source": [
    "with open(\"testingDataFiles.txt\",\"r\") as file:\n",
    "    content = file.read()\n",
    "print(content)"
   ]
  },
  {
   "cell_type": "code",
   "execution_count": 8,
   "id": "1ef85a75",
   "metadata": {},
   "outputs": [],
   "source": [
    "with open(\"testingDataFiles.txt\",\"w\") as file:\n",
    "    file.write(\"The previous data will be overwrite\")"
   ]
  },
  {
   "cell_type": "code",
   "execution_count": 9,
   "id": "e905a3df",
   "metadata": {},
   "outputs": [
    {
     "name": "stdout",
     "output_type": "stream",
     "text": [
      "The previous data will be overwrite\n"
     ]
    }
   ],
   "source": [
    "with open(\"testingDataFiles.txt\",\"r\") as file:\n",
    "    content = file.read()\n",
    "print(content)"
   ]
  },
  {
   "cell_type": "code",
   "execution_count": 10,
   "id": "8fe93ec4",
   "metadata": {},
   "outputs": [],
   "source": [
    "# if file does not exixt then \"w\" mode will create it and write in it"
   ]
  },
  {
   "cell_type": "code",
   "execution_count": 11,
   "id": "c47a15f9",
   "metadata": {},
   "outputs": [],
   "source": [
    "with open(\"testingDataFiles.txt\",\"a\") as file:\n",
    "    file.write(\" This text is written in append mode\")"
   ]
  },
  {
   "cell_type": "code",
   "execution_count": 12,
   "id": "48855bf6",
   "metadata": {},
   "outputs": [],
   "source": [
    "# r+ mode can read and write as well but cannot create new file if not existed\n",
    "# w+ mode can read and write as well but can create new file if not exist"
   ]
  },
  {
   "cell_type": "code",
   "execution_count": 13,
   "id": "8cc530d9",
   "metadata": {},
   "outputs": [
    {
     "name": "stdout",
     "output_type": "stream",
     "text": [
      "this is new file\n"
     ]
    }
   ],
   "source": [
    "with open(\"myNewFile.txt\",\"w+\") as file:\n",
    "    file.write(\"this is new file\")\n",
    "    \n",
    "    file.seek(0)\n",
    "    print(file.read())"
   ]
  },
  {
   "cell_type": "code",
   "execution_count": null,
   "id": "af4f75a1",
   "metadata": {},
   "outputs": [],
   "source": []
  }
 ],
 "metadata": {
  "kernelspec": {
   "display_name": "Python 3 (ipykernel)",
   "language": "python",
   "name": "python3"
  },
  "language_info": {
   "codemirror_mode": {
    "name": "ipython",
    "version": 3
   },
   "file_extension": ".py",
   "mimetype": "text/x-python",
   "name": "python",
   "nbconvert_exporter": "python",
   "pygments_lexer": "ipython3",
   "version": "3.9.13"
  }
 },
 "nbformat": 4,
 "nbformat_minor": 5
}
