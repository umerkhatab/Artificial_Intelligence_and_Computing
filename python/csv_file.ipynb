{
 "cells": [
  {
   "cell_type": "markdown",
   "id": "d0831bf6",
   "metadata": {},
   "source": [
    "# Reading from csv"
   ]
  },
  {
   "cell_type": "code",
   "execution_count": 4,
   "id": "5672c97a",
   "metadata": {},
   "outputs": [],
   "source": [
    "import csv"
   ]
  },
  {
   "cell_type": "code",
   "execution_count": 5,
   "id": "d48878dc",
   "metadata": {},
   "outputs": [
    {
     "name": "stdout",
     "output_type": "stream",
     "text": [
      "['year', 'event', 'winner']\n",
      "['2019', 'cricket', 'pakistan']\n",
      "['2020', 'cricket', 'India']\n",
      "['2021', 'football', 'nepal']\n"
     ]
    }
   ],
   "source": [
    "with open(\"test.csv\") as file:\n",
    "    contents = csv.reader(file)\n",
    "    for content in contents:\n",
    "        print(content)"
   ]
  },
  {
   "cell_type": "code",
   "execution_count": 6,
   "id": "3657199e",
   "metadata": {},
   "outputs": [],
   "source": [
    "#Writing data to CSV file while avoiding overwriting we use append function"
   ]
  },
  {
   "cell_type": "code",
   "execution_count": 11,
   "id": "e76eb30b",
   "metadata": {},
   "outputs": [],
   "source": [
    "with open(\"test.csv\",\"a\",newline = \"\") as file:\n",
    "    fileWriter = csv.writer(file)\n",
    "    fileWriter.writerow([2022,\"basketball\",\"KSA\"])"
   ]
  },
  {
   "cell_type": "code",
   "execution_count": null,
   "id": "fb54e75a",
   "metadata": {},
   "outputs": [],
   "source": []
  },
  {
   "cell_type": "code",
   "execution_count": null,
   "id": "fb31a086",
   "metadata": {},
   "outputs": [],
   "source": []
  }
 ],
 "metadata": {
  "kernelspec": {
   "display_name": "Python 3 (ipykernel)",
   "language": "python",
   "name": "python3"
  },
  "language_info": {
   "codemirror_mode": {
    "name": "ipython",
    "version": 3
   },
   "file_extension": ".py",
   "mimetype": "text/x-python",
   "name": "python",
   "nbconvert_exporter": "python",
   "pygments_lexer": "ipython3",
   "version": "3.9.13"
  }
 },
 "nbformat": 4,
 "nbformat_minor": 5
}
